{
 "cells": [
  {
   "cell_type": "code",
   "execution_count": null,
   "metadata": {},
   "outputs": [
    {
     "name": "stdout",
     "output_type": "stream",
     "text": [
      "Received message: b'GeeksforGeeks'\n"
     ]
    }
   ],
   "source": [
    "# importing socket module \n",
    "import socket \n",
    "  \n",
    "UDP_IP = \"localhost\"\n",
    "UDP_PORT = 808\n",
    "  \n",
    "sock = socket.socket(socket.AF_INET, socket.SOCK_DGRAM) \n",
    "sock.bind((UDP_IP, UDP_PORT)) \n",
    "  \n",
    "while True: \n",
    "    # buffer size is 1024 bytes \n",
    "    data, addr = sock.recvfrom(1024)  \n",
    "    print (\"Received message:\", data)"
   ]
  },
  {
   "cell_type": "code",
   "execution_count": null,
   "metadata": {},
   "outputs": [],
   "source": [
    "# importing socket module \n",
    "import socket \n",
    "  \n",
    "UDP_IP = \"localhost\"\n",
    "UDP_PORT = 8080\n",
    "  \n",
    "sock = socket.socket(socket.AF_INET, socket.SOCK_DGRAM) \n",
    "sock.bind((UDP_IP, UDP_PORT)) "
   ]
  },
  {
   "cell_type": "code",
   "execution_count": null,
   "metadata": {},
   "outputs": [],
   "source": [
    "# buffer size is 1024 bytes \n",
    "data, addr = sock.recvfrom(1024)  \n",
    "print (\"Received message:\", data)"
   ]
  }
 ],
 "metadata": {
  "kernelspec": {
   "display_name": "Python 3",
   "language": "python",
   "name": "python3"
  },
  "language_info": {
   "codemirror_mode": {
    "name": "ipython",
    "version": 3
   },
   "file_extension": ".py",
   "mimetype": "text/x-python",
   "name": "python",
   "nbconvert_exporter": "python",
   "pygments_lexer": "ipython3",
   "version": "3.7.4"
  },
  "latex_envs": {
   "LaTeX_envs_menu_present": true,
   "autoclose": false,
   "autocomplete": true,
   "bibliofile": "biblio.bib",
   "cite_by": "apalike",
   "current_citInitial": 1,
   "eqLabelWithNumbers": true,
   "eqNumInitial": 1,
   "hotkeys": {
    "equation": "Ctrl-E",
    "itemize": "Ctrl-I"
   },
   "labels_anchors": false,
   "latex_user_defs": false,
   "report_style_numbering": false,
   "user_envs_cfg": false
  }
 },
 "nbformat": 4,
 "nbformat_minor": 2
}
