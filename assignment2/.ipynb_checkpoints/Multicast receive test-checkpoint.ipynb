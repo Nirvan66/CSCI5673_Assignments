{
 "cells": [
  {
   "cell_type": "markdown",
   "metadata": {},
   "source": [
    "# Links\n",
    "https://pymotw.com/2/socket/multicast.html\n",
    "\n",
    "https://stackoverflow.com/questions/603852/how-do-you-udp-multicast-in-python"
   ]
  },
  {
   "cell_type": "markdown",
   "metadata": {},
   "source": [
    "# Recieve"
   ]
  },
  {
   "cell_type": "code",
   "execution_count": 31,
   "metadata": {},
   "outputs": [
    {
     "name": "stdout",
     "output_type": "stream",
     "text": [
      "here\n"
     ]
    }
   ],
   "source": [
    "import socket\n",
    "import struct\n",
    "\n",
    "MCAST_GRP = '224.0.0.1'\n",
    "MCAST_PORT = 5050\n",
    "IS_ALL_GROUPS = True\n",
    "IS_MACOS = True\n",
    "\n",
    "reuse_option = socket.SO_REUSEADDR if not IS_MACOS else socket.SO_REUSEPORT\n",
    "\n",
    "sock = socket.socket(socket.AF_INET, socket.SOCK_DGRAM, socket.IPPROTO_UDP)\n",
    "sock.setsockopt(socket.SOL_SOCKET, reuse_option, 1) # for macos, socket.SO_REUSEPORT, linux socket.SO_REUSEADDR\n",
    "if IS_ALL_GROUPS and not IS_MACOS:\n",
    "    # on this port, receives ALL multicast groups\n",
    "    sock.bind(('', MCAST_PORT))\n",
    "else:\n",
    "    # on this port, listen ONLY to MCAST_GRP\n",
    "    sock.bind((MCAST_GRP, MCAST_PORT))\n",
    "mreq = struct.pack(\"4sl\", socket.inet_aton(MCAST_GRP), socket.INADDR_ANY)\n",
    "\n",
    "sock.setsockopt(socket.IPPROTO_IP, socket.IP_MULTICAST_LOOP, mreq) # socket.IP_MULTICAST_LOOP for the same machine"
   ]
  },
  {
   "cell_type": "markdown",
   "metadata": {},
   "source": [
    "# Send"
   ]
  },
  {
   "cell_type": "code",
   "execution_count": 32,
   "metadata": {},
   "outputs": [
    {
     "name": "stdout",
     "output_type": "stream",
     "text": [
      "here\n",
      "here 2\n",
      "here 3\n"
     ]
    },
    {
     "data": {
      "text/plain": [
       "5"
      ]
     },
     "execution_count": 32,
     "metadata": {},
     "output_type": "execute_result"
    }
   ],
   "source": [
    "import socket\n",
    "\n",
    "MCAST_GRP = '224.0.0.1'\n",
    "MCAST_PORT = 5050\n",
    "# regarding socket.IP_MULTICAST_TTL\n",
    "# ---------------------------------\n",
    "# for all packets sent, after two hops on the network the packet will not \n",
    "# be re-sent/broadcast (see https://www.tldp.org/HOWTO/Multicast-HOWTO-6.html)\n",
    "MULTICAST_TTL = 100\n",
    "\n",
    "print('here')\n",
    "sock = socket.socket(socket.AF_INET, socket.SOCK_DGRAM, socket.IPPROTO_UDP)\n",
    "print('here 2')\n",
    "sock.setsockopt(socket.IPPROTO_IP, socket.IP_MULTICAST_LOOP, MULTICAST_TTL) #IP_MULTICAST_TTL\n",
    "print('here 3')\n",
    "sock.sendto(\"robot\".encode(), (MCAST_GRP, MCAST_PORT))"
   ]
  },
  {
   "cell_type": "code",
   "execution_count": 33,
   "metadata": {},
   "outputs": [
    {
     "ename": "KeyboardInterrupt",
     "evalue": "",
     "output_type": "error",
     "traceback": [
      "\u001b[0;31m---------------------------------------------------------------------------\u001b[0m",
      "\u001b[0;31mKeyboardInterrupt\u001b[0m                         Traceback (most recent call last)",
      "\u001b[0;32m<ipython-input-33-d60bcdb72dff>\u001b[0m in \u001b[0;36m<module>\u001b[0;34m\u001b[0m\n\u001b[0;32m----> 1\u001b[0;31m \u001b[0mprint\u001b[0m\u001b[0;34m(\u001b[0m\u001b[0msock\u001b[0m\u001b[0;34m.\u001b[0m\u001b[0mrecv\u001b[0m\u001b[0;34m(\u001b[0m\u001b[0;36m10240\u001b[0m\u001b[0;34m)\u001b[0m\u001b[0;34m.\u001b[0m\u001b[0mdecode\u001b[0m\u001b[0;34m(\u001b[0m\u001b[0;34m)\u001b[0m\u001b[0;34m)\u001b[0m\u001b[0;34m\u001b[0m\u001b[0;34m\u001b[0m\u001b[0m\n\u001b[0m",
      "\u001b[0;31mKeyboardInterrupt\u001b[0m: "
     ]
    }
   ],
   "source": [
    "print(sock.recv(10240).decode())"
   ]
  },
  {
   "cell_type": "code",
   "execution_count": 34,
   "metadata": {},
   "outputs": [
    {
     "name": "stdout",
     "output_type": "stream",
     "text": [
      "b'robot'\n"
     ]
    }
   ],
   "source": [
    "print(\"robot\".encode())"
   ]
  },
  {
   "cell_type": "code",
   "execution_count": null,
   "metadata": {},
   "outputs": [],
   "source": []
  }
 ],
 "metadata": {
  "kernelspec": {
   "display_name": "Python 3",
   "language": "python",
   "name": "python3"
  },
  "language_info": {
   "codemirror_mode": {
    "name": "ipython",
    "version": 3
   },
   "file_extension": ".py",
   "mimetype": "text/x-python",
   "name": "python",
   "nbconvert_exporter": "python",
   "pygments_lexer": "ipython3",
   "version": "3.7.4"
  }
 },
 "nbformat": 4,
 "nbformat_minor": 4
}
