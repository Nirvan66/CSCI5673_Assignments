{
 "cells": [
  {
   "cell_type": "markdown",
   "metadata": {},
   "source": [
    "# Client"
   ]
  },
  {
   "cell_type": "code",
   "execution_count": null,
   "metadata": {},
   "outputs": [],
   "source": [
    "import socket\n",
    "UDPClientSocket = socket.socket(family = socket.AF_INET, type = socket.SOCK_DGRAM)\n",
    "clientAddrPort = ('127.0.0.1',9999)\n",
    "serverAddrPort = (\"224.0.0.1\", 5050) \n",
    "UDPClientSocket.connect(clientAddrPort)                               "
   ]
  },
  {
   "cell_type": "code",
   "execution_count": 2,
   "metadata": {},
   "outputs": [
    {
     "data": {
      "text/plain": [
       "10"
      ]
     },
     "execution_count": 2,
     "metadata": {},
     "output_type": "execute_result"
    }
   ],
   "source": [
    "message = ('qCreate',11)\n",
    "message = \",\".join(map(lambda x: str(x),message))\n",
    "UDPClientSocket.sendto(str.encode(message), serverAddrPort)\n",
    "data, addr = UDPClientSocket.recvfrom(10240)"
   ]
  },
  {
   "cell_type": "code",
   "execution_count": null,
   "metadata": {},
   "outputs": [],
   "source": [
    "message = ('qId',11)\n",
    "message = \",\".join(map(lambda x: str(x),message))\n",
    "UDPClientSocket.sendto(str.encode(message), serverAddrPort)"
   ]
  },
  {
   "cell_type": "code",
   "execution_count": null,
   "metadata": {},
   "outputs": [],
   "source": [
    "message = ('qPush',11)\n",
    "message = \",\".join(map(lambda x: str(x),message))\n",
    "UDPClientSocket.sendto(str.encode(message), serverAddrPort)"
   ]
  },
  {
   "cell_type": "code",
   "execution_count": null,
   "metadata": {},
   "outputs": [],
   "source": [
    "message = ('qPush',11)\n",
    "message = ('qPop',11)\n",
    "message = ('qTop',11)\n",
    "message = ('qSize',11)\n",
    "message = ('qDestroy',11)"
   ]
  },
  {
   "cell_type": "code",
   "execution_count": 9,
   "metadata": {},
   "outputs": [],
   "source": [
    "msg, addr = UDPClientSocket.recvfrom(bufferSize)"
   ]
  }
 ],
 "metadata": {
  "kernelspec": {
   "display_name": "Python 3",
   "language": "python",
   "name": "python3"
  },
  "language_info": {
   "codemirror_mode": {
    "name": "ipython",
    "version": 3
   },
   "file_extension": ".py",
   "mimetype": "text/x-python",
   "name": "python",
   "nbconvert_exporter": "python",
   "pygments_lexer": "ipython3",
   "version": "3.7.4"
  },
  "latex_envs": {
   "LaTeX_envs_menu_present": true,
   "autoclose": false,
   "autocomplete": true,
   "bibliofile": "biblio.bib",
   "cite_by": "apalike",
   "current_citInitial": 1,
   "eqLabelWithNumbers": true,
   "eqNumInitial": 1,
   "hotkeys": {
    "equation": "Ctrl-E",
    "itemize": "Ctrl-I"
   },
   "labels_anchors": false,
   "latex_user_defs": false,
   "report_style_numbering": false,
   "user_envs_cfg": false
  }
 },
 "nbformat": 4,
 "nbformat_minor": 2
}
