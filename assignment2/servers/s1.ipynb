{
 "cells": [
  {
   "cell_type": "markdown",
   "metadata": {},
   "source": [
    "# Queue Stuff"
   ]
  },
  {
   "cell_type": "code",
   "execution_count": 1,
   "metadata": {},
   "outputs": [],
   "source": [
    "import queue\n",
    "class FTQueue:\n",
    "    def __init__(self):\n",
    "        self.Q = {}\n",
    "        \n",
    "    def qCreate(self, label):\n",
    "        qid = self.qId(label)\n",
    "        if qid==-1:\n",
    "            qid = max(list(self.Q.keys())+[-1])+1\n",
    "            self.Q[qid] = {'que':queue.Queue(),'label':label}\n",
    "        return qid\n",
    "        \n",
    "    def qId(self, label):\n",
    "        for k,v in self.Q.items():\n",
    "            if v['label'] == label:\n",
    "                return k\n",
    "        return -1\n",
    "    \n",
    "    def qPush(self, queue_id, item):\n",
    "        self.Q[queue_id]['que'].put(item)\n",
    "        \n",
    "    def qPop(self, queue_id):\n",
    "        return self.Q[queue_id]['que'].get(False)\n",
    "    \n",
    "    def qTop(self, queue_id):\n",
    "        return self.Q[queue_id]['que'].queue[0]\n",
    "    \n",
    "    def qSize(self, queue_id):\n",
    "        return self.Q[queue_id]['que'].qsize()\n",
    "    \n",
    "    def qDestroy(self, queue_id):\n",
    "        del self.Q[queue_id]\n",
    "\n",
    "def updateQueue(ftq, commands):\n",
    "    if commands[0]=='qCreate':\n",
    "        label = int(commands[1])\n",
    "        return ftq.qCreate(label)\n",
    "        \n",
    "    elif commands[0]=='qId':\n",
    "        label = int(commands[1])\n",
    "        return ftq.qId(label)\n",
    "        \n",
    "    elif commands[0]=='qPush':\n",
    "        queue_id = int(commands[1])\n",
    "        item = int(commands[2])\n",
    "        ftq.qPush(queue_id, item)\n",
    "        \n",
    "    elif commands[0]=='qPop':\n",
    "        queue_id = int(commands[1])\n",
    "        return ftq.qPop(queue_id)\n",
    "        \n",
    "    elif commands[0]=='qTop':\n",
    "        queue_id = int(commands[1])\n",
    "        return ftq.qTop(queue_id)\n",
    "        \n",
    "    elif commands[0]=='qSize':\n",
    "        queue_id = int(commands[1])\n",
    "        return ftq.qSize(queue_id)\n",
    "        \n",
    "    elif commands[0]=='qDestroy':\n",
    "        queue_id = int(commands[1])\n",
    "        ftq.qDestroy(queue_id)"
   ]
  },
  {
   "cell_type": "markdown",
   "metadata": {},
   "source": [
    "# Join group"
   ]
  },
  {
   "cell_type": "code",
   "execution_count": 2,
   "metadata": {},
   "outputs": [],
   "source": [
    "import socket\n",
    "import struct\n",
    "import regex as re\n",
    "import threading \n",
    "import os, sys\n",
    "\n",
    "MCAST_GRP = '224.0.0.1'\n",
    "MCAST_PORT = 5050\n",
    "IS_ALL_GROUPS = True\n",
    "IS_MACOS = False\n",
    "LOCAL_HOST = True\n",
    "\n",
    "reuse_option = socket.SO_REUSEADDR if not IS_MACOS else socket.SO_REUSEPORT\n",
    "level_option = socket.IP_ADD_MEMBERSHIP if not LOCAL_HOST else socket.IP_MULTICAST_LOOP\n",
    "\n",
    "mcast_sock = socket.socket(socket.AF_INET, socket.SOCK_DGRAM, socket.IPPROTO_UDP)\n",
    "mcast_sock.setsockopt(socket.SOL_SOCKET, reuse_option, 1) # for macos, socket.SO_REUSEPORT, linux socket.SO_REUSEADDR\n",
    "\n",
    "mcast_sock.bind((MCAST_GRP, MCAST_PORT))\n",
    "mreq = struct.pack(\"4sl\", socket.inet_aton(MCAST_GRP), socket.INADDR_ANY)\n",
    "mcast_sock.setsockopt(socket.IPPROTO_IP, level_option, mreq) # socket.IP_MULTICAST_LOOP for the same machine\n",
    "\n",
    "uniAddrPort = (\"127.0.0.1\", 8080)\n",
    "ucast_sock = socket.socket(socket.AF_INET, socket.SOCK_DGRAM)\n",
    "ucast_sock.bind(uniAddrPort)"
   ]
  },
  {
   "cell_type": "code",
   "execution_count": 3,
   "metadata": {},
   "outputs": [],
   "source": [
    "def processCommand(command, addr):\n",
    "    # if another member sends a join request to already existing group\n",
    "    if command[0]=='joinRequest':\n",
    "        newMemberNum = int(command[1])\n",
    "        if addr not in groupMembers and addr!=uniAddrPort:\n",
    "            # if number already exists denie join reques\n",
    "            if newMemberNum in groupMembers.keys():\n",
    "                denJoin = ('joinDenied',)\n",
    "                denJoin = \",\".join(map(lambda x: str(x),denJoin))\n",
    "                ucast_sock.sendto(str.encode(denJoin), addr)\n",
    "            # if member number does not exist accept join request\n",
    "            # send conformation with your member number\n",
    "            else:\n",
    "                groupMembers[newMemberNum] = addr\n",
    "                confJoin = ('joinConfirm', memberNumber)\n",
    "                confJoin = \",\".join(map(lambda x: str(x),confJoin))\n",
    "                ucast_sock.sendto(str.encode(confJoin), addr)\n",
    "    # collect confirmation messages sent by other group members.\n",
    "    # collect member numbers and addresses.\n",
    "    elif command[0]=='joinConfirm':\n",
    "        if addr not in groupMembers and addr!=uniAddrPort:\n",
    "            groupMembers[int(command[1])] = addr\n",
    "            \n",
    "    # if denied exit for now     \n",
    "    elif command[0]=='joinDenied':\n",
    "        print(\"MEMBER NUMBER {} ALREADY EXISTS. PICK ANOTHER\".format(memberNumber))\n",
    "        os._exit(0)\n",
    "        \n",
    "    # if sequence number is received for a message\n",
    "    elif command[0]=='seq':\n",
    "        sequences.append(command[1:])\n",
    "        \n",
    "    # if a msg is recived from the client\n",
    "    elif command[0]=='msg': \n",
    "        messages[command[1]] = command[2:]\n",
    "        "
   ]
  },
  {
   "cell_type": "code",
   "execution_count": 4,
   "metadata": {},
   "outputs": [
    {
     "name": "stdout",
     "output_type": "stream",
     "text": [
      "Running Multicast Listner\n",
      "Running Unicast Listner\n"
     ]
    }
   ],
   "source": [
    "def mutiListner():\n",
    "    '''\n",
    "    Listens to group socket for messages\n",
    "    '''\n",
    "    print(\"Running Multicast Listner\")\n",
    "    while(multiRunning):\n",
    "        data, addr = mcast_sock.recvfrom(10240)\n",
    "        command = data.decode().split(',')\n",
    "        print(\"Received {} from {}\".format(command, addr))\n",
    "        processCommand(command, addr)\n",
    "\n",
    "def uniListner():\n",
    "    '''\n",
    "    Listens to unicast socket for messages\n",
    "    '''\n",
    "    print(\"Running Unicast Listner\")\n",
    "    while(uniRunning):\n",
    "        data, addr = ucast_sock.recvfrom(10240)\n",
    "        command = data.decode().split(',')\n",
    "        print(\"Received {} from {}\".format(command, addr))\n",
    "        processCommand(command, addr)\n",
    "\n",
    "\n",
    "globalSeq = 0\n",
    "memberNumber = 0\n",
    "groupMembers = {memberNumber:uniAddrPort}\n",
    "FTq = FTQueue()\n",
    "\n",
    "messages = {}\n",
    "sequences = []\n",
    "\n",
    "multiRunning = True\n",
    "multiThread = threading.Thread(target=mutiListner, name='multicast')\n",
    "multiThread.daemon = True\n",
    "multiThread.start()\n",
    "\n",
    "uniRunning = True\n",
    "uniThread = threading.Thread(target=uniListner, name='unicast')\n",
    "uniThread.daemon = True\n",
    "uniThread.start()"
   ]
  },
  {
   "cell_type": "code",
   "execution_count": 5,
   "metadata": {},
   "outputs": [
    {
     "name": "stdout",
     "output_type": "stream",
     "text": [
      "Received ['joinRequest', '0'] from ('127.0.0.1', 8080)\n"
     ]
    },
    {
     "data": {
      "text/plain": [
       "13"
      ]
     },
     "execution_count": 5,
     "metadata": {},
     "output_type": "execute_result"
    }
   ],
   "source": [
    "# joining group\n",
    "joinM = ('joinRequest', memberNumber)\n",
    "joinM = \",\".join(map(lambda x: str(x),joinM))\n",
    "ucast_sock.sendto(str.encode(joinM), (MCAST_GRP, MCAST_PORT))"
   ]
  },
  {
   "cell_type": "code",
   "execution_count": 8,
   "metadata": {},
   "outputs": [
    {
     "data": {
      "text/plain": [
       "{0: ('127.0.0.1', 8080), 1: ('127.0.0.1', 8081)}"
      ]
     },
     "execution_count": 8,
     "metadata": {},
     "output_type": "execute_result"
    }
   ],
   "source": [
    "groupMembers"
   ]
  },
  {
   "cell_type": "code",
   "execution_count": 10,
   "metadata": {},
   "outputs": [
    {
     "data": {
      "text/plain": [
       "{'3640974c-7dc9-444f-b822-25152673ea9d': ['qCreate', '12']}"
      ]
     },
     "execution_count": 10,
     "metadata": {},
     "output_type": "execute_result"
    }
   ],
   "source": [
    "messages"
   ]
  },
  {
   "cell_type": "markdown",
   "metadata": {},
   "source": [
    "# MiddleWare"
   ]
  },
  {
   "cell_type": "code",
   "execution_count": null,
   "metadata": {},
   "outputs": [],
   "source": [
    "print(\"Received: {} from: {}\".format(commands,addr))\n",
    "ret = updateQueue(FTq, commands)\n",
    "if ret!=None:\n",
    "    print(\"Sending: {}\".format(ret))\n",
    "    sock.sendto(str.encode(str(ret)), addr)"
   ]
  },
  {
   "cell_type": "code",
   "execution_count": null,
   "metadata": {
    "collapsed": true
   },
   "outputs": [
    {
     "name": "stdout",
     "output_type": "stream",
     "text": [
      "Received: ['qCreate', '11'] from: ('127.0.0.1', 20001)\n",
      "Sending: 0\n",
      "Received: ['qId', '11'] from: ('127.0.0.1', 20001)\n",
      "Sending: 0\n",
      "Received: ['qPush', '0', '4'] from: ('127.0.0.1', 20001)\n",
      "Received: ['qTop', '0'] from: ('127.0.0.1', 20001)\n",
      "Sending: 4\n",
      "Received: ['qPush', '0', '6'] from: ('127.0.0.1', 20001)\n",
      "Received: ['qTop', '0'] from: ('127.0.0.1', 20001)\n",
      "Sending: 4\n",
      "Received: ['qPop', '0'] from: ('127.0.0.1', 20001)\n",
      "Sending: 6\n",
      "Received: ['qTop', '0'] from: ('127.0.0.1', 20001)\n",
      "Sending: 4\n",
      "Received: ['qSize', '0'] from: ('127.0.0.1', 20001)\n",
      "Sending: 1\n",
      "Received: ['qPop', '0'] from: ('127.0.0.1', 20001)\n",
      "Sending: 4\n",
      "Received: ['qSize', '0'] from: ('127.0.0.1', 20001)\n",
      "Sending: 0\n",
      "Received: ['qTop', '0'] from: ('127.0.0.1', 20001)\n"
     ]
    }
   ],
   "source": [
    "while(1):\n",
    "    data, addr = sock.recvfrom(10240)\n",
    "    commands = data.decode().split(',')\n",
    "    print(\"Received: {} from: {}\".format(commands,addr))\n",
    "    ret = updateQueue(FTq, commands)\n",
    "    if ret!=None:\n",
    "        print(\"Sending: {}\".format(ret))\n",
    "        sock.sendto(str.encode(str(ret)), addr)"
   ]
  },
  {
   "cell_type": "code",
   "execution_count": null,
   "metadata": {},
   "outputs": [],
   "source": []
  }
 ],
 "metadata": {
  "kernelspec": {
   "display_name": "Python 3",
   "language": "python",
   "name": "python3"
  },
  "language_info": {
   "codemirror_mode": {
    "name": "ipython",
    "version": 3
   },
   "file_extension": ".py",
   "mimetype": "text/x-python",
   "name": "python",
   "nbconvert_exporter": "python",
   "pygments_lexer": "ipython3",
   "version": "3.7.4"
  },
  "latex_envs": {
   "LaTeX_envs_menu_present": true,
   "autoclose": false,
   "autocomplete": true,
   "bibliofile": "biblio.bib",
   "cite_by": "apalike",
   "current_citInitial": 1,
   "eqLabelWithNumbers": true,
   "eqNumInitial": 1,
   "hotkeys": {
    "equation": "Ctrl-E",
    "itemize": "Ctrl-I"
   },
   "labels_anchors": false,
   "latex_user_defs": false,
   "report_style_numbering": false,
   "user_envs_cfg": false
  }
 },
 "nbformat": 4,
 "nbformat_minor": 2
}
