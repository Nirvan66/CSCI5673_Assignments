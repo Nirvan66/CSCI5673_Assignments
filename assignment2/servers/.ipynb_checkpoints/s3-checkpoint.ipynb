{
 "cells": [
  {
   "cell_type": "code",
   "execution_count": 1,
   "metadata": {},
   "outputs": [],
   "source": [
    "import socket\n",
    "import struct\n",
    "import regex as re\n",
    "import threading \n",
    "import os, sys\n",
    "import time\n",
    "import phaseO\n",
    "\n",
    "MCAST_GRP = '224.0.0.1'\n",
    "MCAST_PORT = 5050\n",
    "multiAddrPort = (MCAST_GRP, MCAST_PORT)\n",
    "\n",
    "IS_MACOS = False\n",
    "LOCAL_HOST = True\n",
    "\n",
    "reuse_option = socket.SO_REUSEADDR if not IS_MACOS else socket.SO_REUSEPORT\n",
    "level_option = socket.IP_ADD_MEMBERSHIP if not LOCAL_HOST else socket.IP_MULTICAST_LOOP\n",
    "\n",
    "mcast_sock = socket.socket(socket.AF_INET, socket.SOCK_DGRAM, socket.IPPROTO_UDP)\n",
    "mcast_sock.setsockopt(socket.SOL_SOCKET, reuse_option, 1) # for macos, socket.SO_REUSEPORT, linux socket.SO_REUSEADDR\n",
    "\n",
    "mcast_sock.bind((MCAST_GRP, MCAST_PORT))\n",
    "mreq = struct.pack(\"4sl\", socket.inet_aton(MCAST_GRP), socket.INADDR_ANY)\n",
    "mcast_sock.setsockopt(socket.IPPROTO_IP, level_option, mreq) # socket.IP_MULTICAST_LOOP for the same machine\n",
    "\n",
    "uniAddrPort = (\"127.0.0.1\", 8081)\n",
    "ucast_sock = socket.socket(socket.AF_INET, socket.SOCK_DGRAM)\n",
    "ucast_sock.bind(uniAddrPort)"
   ]
  },
  {
   "cell_type": "code",
   "execution_count": 2,
   "metadata": {},
   "outputs": [
    {
     "name": "stdout",
     "output_type": "stream",
     "text": [
      "Running Multicast Listner\n",
      "Running Unicast Listner\n"
     ]
    }
   ],
   "source": [
    "commands = []\n",
    "\n",
    "multiRunning = []\n",
    "multiThread = threading.Thread(target=phaseO.mutiListner, name='multicast', \n",
    "    args=(multiRunning, commands, mcast_sock, uniAddrPort))\n",
    "multiThread.daemon = True\n",
    "multiThread.start()\n",
    "\n",
    "uniRunning = []\n",
    "uniThread = threading.Thread(target=phaseO.uniListner, name='unicast', \n",
    "    args=(uniRunning, commands, ucast_sock, uniAddrPort))\n",
    "uniThread.daemon = True\n",
    "uniThread.start()\n",
    "\n",
    "globalSeq = [0]\n",
    "memberNumber = 1\n",
    "groupMembers = {memberNumber:uniAddrPort}\n",
    "FTq = phaseO.FTQueue()\n",
    "messages = {}\n",
    "seqNumsSent = {}\n",
    "\n",
    "midRunning = []\n",
    "midThread = threading.Thread(target=phaseO.middlewareThread, name='middleware', \n",
    "    args=(midRunning, globalSeq, memberNumber, groupMembers, \n",
    "        FTq, commands, messages, seqNumsSent, \n",
    "        ucast_sock, multiAddrPort))\n",
    "midThread.daemon = True\n",
    "midThread.start()"
   ]
  },
  {
   "cell_type": "code",
   "execution_count": 3,
   "metadata": {},
   "outputs": [
    {
     "name": "stdout",
     "output_type": "stream",
     "text": [
      "Received ['joinConfirm', '0'] from ('127.0.0.1', 8080)"
     ]
    },
    {
     "data": {
      "text/plain": [
       "13"
      ]
     },
     "execution_count": 3,
     "metadata": {},
     "output_type": "execute_result"
    },
    {
     "name": "stdout",
     "output_type": "stream",
     "text": [
      "\n",
      "\n",
      "Processing command ['joinConfirm', '0'] from ('127.0.0.1', 8080)\n",
      "Received join confirmation from 0\n",
      "\n"
     ]
    }
   ],
   "source": [
    "# joining group\n",
    "joinM = ('joinRequest', memberNumber)\n",
    "joinM = \",\".join(map(lambda x: str(x),joinM))\n",
    "ucast_sock.sendto(str.encode(joinM), (MCAST_GRP, MCAST_PORT))"
   ]
  },
  {
   "cell_type": "code",
   "execution_count": 5,
   "metadata": {},
   "outputs": [
    {
     "name": "stdout",
     "output_type": "stream",
     "text": [
      "Group Members:\n",
      "{1: ('127.0.0.1', 8081), 0: ('127.0.0.1', 8080)}\n",
      "\n",
      "FTq.Q:\n",
      "{0: {'que': <queue.Queue object at 0x7f99d0010890>, 'label': 12}}\n",
      "\n",
      "Client Messages:\n",
      "{}\n",
      "\n",
      "Sequence Numbers:\n",
      "{}\n",
      "\n",
      "Global Sequence Num:\n",
      "[1]\n"
     ]
    }
   ],
   "source": [
    "print(\"Group Members:\\n{}\".format(groupMembers))\n",
    "print(\"\\nFTq.Q:\\n{}\".format(FTq.Q))\n",
    "print(\"\\nClient Messages:\\n{}\".format(messages))\n",
    "print(\"\\nSequence Numbers:\\n{}\".format(seqNumsSent))\n",
    "print(\"\\nGlobal Sequence Num:\\n{}\".format(globalSeq))"
   ]
  },
  {
   "cell_type": "code",
   "execution_count": 1,
   "metadata": {},
   "outputs": [
    {
     "ename": "NameError",
     "evalue": "name 'FTq' is not defined",
     "output_type": "error",
     "traceback": [
      "\u001b[0;31m---------------------------------------------------------------------------\u001b[0m",
      "\u001b[0;31mNameError\u001b[0m                                 Traceback (most recent call last)",
      "\u001b[0;32m<ipython-input-1-848511631601>\u001b[0m in \u001b[0;36m<module>\u001b[0;34m\u001b[0m\n\u001b[0;32m----> 1\u001b[0;31m \u001b[0mFTq\u001b[0m\u001b[0;34m.\u001b[0m\u001b[0mQ\u001b[0m\u001b[0;34m[\u001b[0m\u001b[0;36m0\u001b[0m\u001b[0;34m]\u001b[0m\u001b[0;34m[\u001b[0m\u001b[0;34m'que'\u001b[0m\u001b[0;34m]\u001b[0m\u001b[0;34m.\u001b[0m\u001b[0mqueue\u001b[0m\u001b[0;34m\u001b[0m\u001b[0;34m\u001b[0m\u001b[0m\n\u001b[0m",
      "\u001b[0;31mNameError\u001b[0m: name 'FTq' is not defined"
     ]
    }
   ],
   "source": [
    "FTq.Q[0]['que'].queue"
   ]
  },
  {
   "cell_type": "code",
   "execution_count": 2,
   "metadata": {},
   "outputs": [
    {
     "data": {
      "text/plain": [
       "1"
      ]
     },
     "execution_count": 2,
     "metadata": {},
     "output_type": "execute_result"
    }
   ],
   "source": [
    "1"
   ]
  },
  {
   "cell_type": "code",
   "execution_count": null,
   "metadata": {},
   "outputs": [],
   "source": []
  }
 ],
 "metadata": {
  "kernelspec": {
   "display_name": "Python 3",
   "language": "python",
   "name": "python3"
  },
  "language_info": {
   "codemirror_mode": {
    "name": "ipython",
    "version": 3
   },
   "file_extension": ".py",
   "mimetype": "text/x-python",
   "name": "python",
   "nbconvert_exporter": "python",
   "pygments_lexer": "ipython3",
   "version": "3.7.4"
  },
  "latex_envs": {
   "LaTeX_envs_menu_present": true,
   "autoclose": false,
   "autocomplete": true,
   "bibliofile": "biblio.bib",
   "cite_by": "apalike",
   "current_citInitial": 1,
   "eqLabelWithNumbers": true,
   "eqNumInitial": 1,
   "hotkeys": {
    "equation": "Ctrl-E",
    "itemize": "Ctrl-I"
   },
   "labels_anchors": false,
   "latex_user_defs": false,
   "report_style_numbering": false,
   "user_envs_cfg": false
  }
 },
 "nbformat": 4,
 "nbformat_minor": 2
}
