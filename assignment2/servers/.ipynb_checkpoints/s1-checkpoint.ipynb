{
 "cells": [
  {
   "cell_type": "code",
   "execution_count": 1,
   "metadata": {},
   "outputs": [],
   "source": [
    "import socket\n",
    "import struct\n",
    "import regex as re\n",
    "import threading \n",
    "import os, sys\n",
    "import time\n",
    "import phaseO\n",
    "\n",
    "MCAST_GRP = '224.0.0.1'\n",
    "MCAST_PORT = 5050\n",
    "IS_ALL_GROUPS = True\n",
    "IS_MACOS = False\n",
    "LOCAL_HOST = True\n",
    "\n",
    "reuse_option = socket.SO_REUSEADDR if not IS_MACOS else socket.SO_REUSEPORT\n",
    "level_option = socket.IP_ADD_MEMBERSHIP if not LOCAL_HOST else socket.IP_MULTICAST_LOOP\n",
    "\n",
    "mcast_sock = socket.socket(socket.AF_INET, socket.SOCK_DGRAM, socket.IPPROTO_UDP)\n",
    "mcast_sock.setsockopt(socket.SOL_SOCKET, reuse_option, 1) # for macos, socket.SO_REUSEPORT, linux socket.SO_REUSEADDR\n",
    "\n",
    "mcast_sock.bind((MCAST_GRP, MCAST_PORT))\n",
    "mreq = struct.pack(\"4sl\", socket.inet_aton(MCAST_GRP), socket.INADDR_ANY)\n",
    "mcast_sock.setsockopt(socket.IPPROTO_IP, level_option, mreq) # socket.IP_MULTICAST_LOOP for the same machine\n",
    "\n",
    "uniAddrPort = (\"127.0.0.1\", 8080)\n",
    "ucast_sock = socket.socket(socket.AF_INET, socket.SOCK_DGRAM)\n",
    "ucast_sock.bind(uniAddrPort)"
   ]
  },
  {
   "cell_type": "code",
   "execution_count": 2,
   "metadata": {
    "collapsed": true
   },
   "outputs": [
    {
     "name": "stdout",
     "output_type": "stream",
     "text": [
      "Running Multicast Listner\n",
      "Running Unicast Listner\n"
     ]
    },
    {
     "name": "stderr",
     "output_type": "stream",
     "text": [
      "Exception in thread unicast:\n",
      "Traceback (most recent call last):\n",
      "  File \"/home/nirvan/anaconda3/lib/python3.7/threading.py\", line 926, in _bootstrap_inner\n",
      "    self.run()\n",
      "  File \"/home/nirvan/anaconda3/lib/python3.7/threading.py\", line 870, in run\n",
      "    self._target(*self._args, **self._kwargs)\n",
      "  File \"/home/nirvan/Desktop/github/CSCI5673_Assignments/assignment2/servers/phaseO.py\", line 107, in uniListner\n",
      "    while(uniRunning):\n",
      "NameError: name 'uniRunning' is not defined\n",
      "Exception in thread middleware:\n",
      "Traceback (most recent call last):\n",
      "  File \"/home/nirvan/anaconda3/lib/python3.7/threading.py\", line 926, in _bootstrap_inner\n",
      "    self.run()\n",
      "  File \"/home/nirvan/anaconda3/lib/python3.7/threading.py\", line 870, in run\n",
      "    self._target(*self._args, **self._kwargs)\n",
      "  File \"/home/nirvan/Desktop/github/CSCI5673_Assignments/assignment2/servers/phaseO.py\", line 119, in middlewareThread\n",
      "    while(midRunning):\n",
      "NameError: name 'midRunning' is not defined\n",
      "\n",
      "\n",
      "Exception in thread multicast:\n",
      "Traceback (most recent call last):\n",
      "  File \"/home/nirvan/anaconda3/lib/python3.7/threading.py\", line 926, in _bootstrap_inner\n",
      "    self.run()\n",
      "  File \"/home/nirvan/anaconda3/lib/python3.7/threading.py\", line 870, in run\n",
      "    self._target(*self._args, **self._kwargs)\n",
      "  File \"/home/nirvan/Desktop/github/CSCI5673_Assignments/assignment2/servers/phaseO.py\", line 92, in mutiListner\n",
      "    while(multiRunning):\n",
      "NameError: name 'multiRunning' is not defined\n",
      "\n"
     ]
    }
   ],
   "source": [
    "commands = []\n",
    "\n",
    "multiRunning = []\n",
    "multiThread = threading.Thread(target=phaseO.mutiListner, name='multicast', \n",
    "    args=(multiRunning, commands))\n",
    "multiThread.daemon = True\n",
    "multiThread.start()\n",
    "\n",
    "uniRunning = []\n",
    "uniThread = threading.Thread(target=phaseO.uniListner, name='unicast', \n",
    "    args=(uniRunning, commands))\n",
    "uniThread.daemon = True\n",
    "uniThread.start()\n",
    "\n",
    "globalSeq = [0]\n",
    "memberNumber = 0\n",
    "groupMembers = {memberNumber:uniAddrPort}\n",
    "FTq = phaseO.FTQueue()\n",
    "messages = {}\n",
    "seqNumsSent = {}\n",
    "\n",
    "midRunning = []\n",
    "midThread = threading.Thread(target=phaseO.middlewareThread, name='middleware', \n",
    "    args=(midRunning, globalSeq, memberNumber, groupMembers, FTq, commands, messages, seqNumsSent))\n",
    "midThread.daemon = True\n",
    "midThread.start()"
   ]
  },
  {
   "cell_type": "code",
   "execution_count": 4,
   "metadata": {},
   "outputs": [],
   "source": [
    "globalSeq = 0\n",
    "memberNumber = 0\n",
    "groupMembers = {memberNumber:uniAddrPort}\n",
    "FTq = FTQueue()\n",
    "messages = {}\n",
    "seqNumsSent = {}\n",
    "\n",
    "\n",
    "testBuildup = True                \n",
    "comRunning = True\n",
    "comThread = threading.Thread(target=commandsThread, name='comm')\n",
    "comThread.daemon = True\n",
    "comThread.start()           "
   ]
  },
  {
   "cell_type": "code",
   "execution_count": 5,
   "metadata": {},
   "outputs": [
    {
     "data": {
      "text/plain": [
       "13"
      ]
     },
     "execution_count": 5,
     "metadata": {},
     "output_type": "execute_result"
    }
   ],
   "source": [
    "# joining group\n",
    "joinM = ('joinRequest', memberNumber)\n",
    "joinM = \",\".join(map(lambda x: str(x),joinM))\n",
    "ucast_sock.sendto(str.encode(joinM), (MCAST_GRP, MCAST_PORT))"
   ]
  },
  {
   "cell_type": "code",
   "execution_count": 9,
   "metadata": {},
   "outputs": [
    {
     "name": "stdout",
     "output_type": "stream",
     "text": [
      "Group Members:\n",
      "{0: ('127.0.0.1', 8080), 1: ('127.0.0.1', 8081)}\n",
      "\n",
      "FTq.Q:\n",
      "{0: {'que': <queue.Queue object at 0x7f449422e8d0>, 'label': 12}}\n",
      "\n",
      "Client Messages:\n",
      "{}\n",
      "\n",
      "Sequence Numbers:\n",
      "{0: 'c705ccd4-2f4c-49d3-ba4d-c94a008d4e78', 2: 'c06c3273-5ba3-43a3-9a08-cd4e13420b49'}\n",
      "\n",
      "Global Sequence Num:\n",
      "4\n"
     ]
    }
   ],
   "source": [
    "print(\"Group Members:\\n{}\".format(groupMembers))\n",
    "print(\"\\nFTq.Q:\\n{}\".format(FTq.Q))\n",
    "print(\"\\nClient Messages:\\n{}\".format(messages))\n",
    "print(\"\\nSequence Numbers:\\n{}\".format(seqNumsSent))\n",
    "print(\"\\nGlobal Sequence Num:\\n{}\".format(globalSeq))"
   ]
  },
  {
   "cell_type": "code",
   "execution_count": 8,
   "metadata": {
    "scrolled": true
   },
   "outputs": [],
   "source": [
    "testBuildup = False  "
   ]
  },
  {
   "cell_type": "code",
   "execution_count": 15,
   "metadata": {},
   "outputs": [
    {
     "data": {
      "text/plain": [
       "deque([])"
      ]
     },
     "execution_count": 15,
     "metadata": {},
     "output_type": "execute_result"
    }
   ],
   "source": [
    "FTq.Q[0]['que'].queue"
   ]
  },
  {
   "cell_type": "code",
   "execution_count": 11,
   "metadata": {},
   "outputs": [
    {
     "data": {
      "text/plain": [
       "1"
      ]
     },
     "execution_count": 11,
     "metadata": {},
     "output_type": "execute_result"
    },
    {
     "name": "stdout",
     "output_type": "stream",
     "text": [
      "Received ['reseq', '2'] from ('127.0.0.1', 8081)\n",
      "Processing command ['reseq', '2'] from ('127.0.0.1', 8081)\n",
      "Received reseq message for seq num 2\n"
     ]
    }
   ],
   "source": [
    "1"
   ]
  },
  {
   "cell_type": "code",
   "execution_count": null,
   "metadata": {},
   "outputs": [],
   "source": []
  }
 ],
 "metadata": {
  "kernelspec": {
   "display_name": "Python 3",
   "language": "python",
   "name": "python3"
  },
  "language_info": {
   "codemirror_mode": {
    "name": "ipython",
    "version": 3
   },
   "file_extension": ".py",
   "mimetype": "text/x-python",
   "name": "python",
   "nbconvert_exporter": "python",
   "pygments_lexer": "ipython3",
   "version": "3.7.4"
  },
  "latex_envs": {
   "LaTeX_envs_menu_present": true,
   "autoclose": false,
   "autocomplete": true,
   "bibliofile": "biblio.bib",
   "cite_by": "apalike",
   "current_citInitial": 1,
   "eqLabelWithNumbers": true,
   "eqNumInitial": 1,
   "hotkeys": {
    "equation": "Ctrl-E",
    "itemize": "Ctrl-I"
   },
   "labels_anchors": false,
   "latex_user_defs": false,
   "report_style_numbering": false,
   "user_envs_cfg": false
  }
 },
 "nbformat": 4,
 "nbformat_minor": 2
}
