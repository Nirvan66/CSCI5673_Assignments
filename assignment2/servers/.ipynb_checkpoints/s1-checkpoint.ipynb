{
 "cells": [
  {
   "cell_type": "markdown",
   "metadata": {},
   "source": [
    "# Queue Stuff"
   ]
  },
  {
   "cell_type": "code",
   "execution_count": 1,
   "metadata": {},
   "outputs": [],
   "source": [
    "import queue\n",
    "class FTQueue:\n",
    "    def __init__(self):\n",
    "        self.Q = {}\n",
    "        \n",
    "    def qCreate(self, label):\n",
    "        qid = self.qId(label)\n",
    "        if qid==-1:\n",
    "            qid = max(list(self.Q.keys())+[-1])+1\n",
    "            self.Q[qid] = {'que':queue.Queue(),'label':label}\n",
    "        return qid\n",
    "        \n",
    "    def qId(self, label):\n",
    "        for k,v in self.Q.items():\n",
    "            if v['label'] == label:\n",
    "                return k\n",
    "        return -1\n",
    "    \n",
    "    def qPush(self, queue_id, item):\n",
    "        self.Q[queue_id]['que'].put(item)\n",
    "        \n",
    "    def qPop(self, queue_id):\n",
    "        return self.Q[queue_id]['que'].get(False)\n",
    "    \n",
    "    def qTop(self, queue_id):\n",
    "        if self.qSize(queue_id)!=0:\n",
    "            top = self.Q[queue_id]['que'].get()\n",
    "            self.Q[queue_id]['que'].put(top)\n",
    "            return top\n",
    "    \n",
    "    def qSize(self, queue_id):\n",
    "        return self.Q[queue_id]['que'].qsize()\n",
    "    \n",
    "    def qDestroy(self, queue_id):\n",
    "        del self.Q[queue_id]\n",
    "\n",
    "def updateQueue(ftq, commands):\n",
    "    if commands[0]=='qCreate':\n",
    "        label = int(commands[1])\n",
    "        return ftq.qCreate(label)\n",
    "        \n",
    "    elif commands[0]=='qId':\n",
    "        label = int(commands[1])\n",
    "        return ftq.qId(label)\n",
    "        \n",
    "    elif commands[0]=='qPush':\n",
    "        queue_id = int(commands[1])\n",
    "        item = int(commands[2])\n",
    "        ftq.qPush(queue_id, item)\n",
    "        \n",
    "    elif commands[0]=='qPop':\n",
    "        queue_id = int(commands[1])\n",
    "        return ftq.qPop(queue_id)\n",
    "        \n",
    "    elif commands[0]=='qTop':\n",
    "        queue_id = int(commands[1])\n",
    "        return ftq.qTop(queue_id)\n",
    "        \n",
    "    elif commands[0]=='qSize':\n",
    "        queue_id = int(commands[1])\n",
    "        return ftq.qSize(queue_id)\n",
    "        \n",
    "    elif commands[0]=='qDestroy':\n",
    "        queue_id = int(commands[1])\n",
    "        ftq.qDestroy(queue_id)\n",
    "FTq = FTQueue()"
   ]
  },
  {
   "cell_type": "markdown",
   "metadata": {},
   "source": [
    "# Join group"
   ]
  },
  {
   "cell_type": "code",
   "execution_count": 2,
   "metadata": {},
   "outputs": [
    {
     "name": "stdout",
     "output_type": "stream",
     "text": [
      "here\n"
     ]
    }
   ],
   "source": [
    "import socket\n",
    "import struct\n",
    "import regex as re\n",
    "\n",
    "MCAST_GRP = '224.0.0.1'\n",
    "MCAST_PORT = 5050\n",
    "IS_ALL_GROUPS = True\n",
    "IS_MACOS = False\n",
    "LOCAL_HOST = True\n",
    "\n",
    "reuse_option = socket.SO_REUSEADDR if not IS_MACOS else socket.SO_REUSEPORT\n",
    "level_option = socket.IP_ADD_MEMBERSHIP if not LOCAL_HOST else socket.IP_MULTICAST_LOOP\n",
    "\n",
    "sock = socket.socket(socket.AF_INET, socket.SOCK_DGRAM, socket.IPPROTO_UDP)\n",
    "sock.setsockopt(socket.SOL_SOCKET, reuse_option, 1) # for macos, socket.SO_REUSEPORT, linux socket.SO_REUSEADDR\n",
    "if IS_ALL_GROUPS and not IS_MACOS:\n",
    "    # on this port, receives ALL multicast groups\n",
    "    sock.bind(('', MCAST_PORT))\n",
    "else:\n",
    "    # on this port, listen ONLY to MCAST_GRP\n",
    "    sock.bind((MCAST_GRP, MCAST_PORT))\n",
    "mreq = struct.pack(\"4sl\", socket.inet_aton(MCAST_GRP), socket.INADDR_ANY)\n",
    "print('here')\n",
    "sock.setsockopt(socket.IPPROTO_IP, level_option, mreq) # socket.IP_MULTICAST_LOOP for the same machine"
   ]
  },
  {
   "cell_type": "markdown",
   "metadata": {},
   "source": [
    "# MiddleWare"
   ]
  },
  {
   "cell_type": "code",
   "execution_count": null,
   "metadata": {
    "collapsed": true
   },
   "outputs": [
    {
     "name": "stdout",
     "output_type": "stream",
     "text": [
      "Received: ['qCreate', '11'] from: ('127.0.0.1', 20001)\n",
      "Sending: 0\n",
      "Received: ['qId', '11'] from: ('127.0.0.1', 20001)\n",
      "Sending: 0\n",
      "Received: ['qPush', '0', '4'] from: ('127.0.0.1', 20001)\n",
      "Received: ['qTop', '0'] from: ('127.0.0.1', 20001)\n",
      "Sending: 4\n",
      "Received: ['qPush', '0', '6'] from: ('127.0.0.1', 20001)\n",
      "Received: ['qTop', '0'] from: ('127.0.0.1', 20001)\n",
      "Sending: 4\n",
      "Received: ['qPop', '0'] from: ('127.0.0.1', 20001)\n",
      "Sending: 6\n",
      "Received: ['qTop', '0'] from: ('127.0.0.1', 20001)\n",
      "Sending: 4\n",
      "Received: ['qSize', '0'] from: ('127.0.0.1', 20001)\n",
      "Sending: 1\n",
      "Received: ['qPop', '0'] from: ('127.0.0.1', 20001)\n",
      "Sending: 4\n",
      "Received: ['qSize', '0'] from: ('127.0.0.1', 20001)\n",
      "Sending: 0\n",
      "Received: ['qTop', '0'] from: ('127.0.0.1', 20001)\n"
     ]
    }
   ],
   "source": [
    "while(1):\n",
    "    data, addr = sock.recvfrom(10240)\n",
    "    commands = data.decode().split(',')\n",
    "    print(\"Received: {} from: {}\".format(commands,addr))\n",
    "    ret = updateQueue(FTq, commands)\n",
    "    if ret!=None:\n",
    "        print(\"Sending: {}\".format(ret))\n",
    "        sock.sendto(str.encode(str(ret)), addr)"
   ]
  },
  {
   "cell_type": "code",
   "execution_count": 4,
   "metadata": {},
   "outputs": [
    {
     "data": {
      "text/plain": [
       "{0: {'que': <queue.Queue at 0x7f6d942bf4d0>, 'label': 11}}"
      ]
     },
     "execution_count": 4,
     "metadata": {},
     "output_type": "execute_result"
    }
   ],
   "source": []
  },
  {
   "cell_type": "code",
   "execution_count": null,
   "metadata": {},
   "outputs": [],
   "source": []
  }
 ],
 "metadata": {
  "kernelspec": {
   "display_name": "Python 3",
   "language": "python",
   "name": "python3"
  },
  "language_info": {
   "codemirror_mode": {
    "name": "ipython",
    "version": 3
   },
   "file_extension": ".py",
   "mimetype": "text/x-python",
   "name": "python",
   "nbconvert_exporter": "python",
   "pygments_lexer": "ipython3",
   "version": "3.7.4"
  },
  "latex_envs": {
   "LaTeX_envs_menu_present": true,
   "autoclose": false,
   "autocomplete": true,
   "bibliofile": "biblio.bib",
   "cite_by": "apalike",
   "current_citInitial": 1,
   "eqLabelWithNumbers": true,
   "eqNumInitial": 1,
   "hotkeys": {
    "equation": "Ctrl-E",
    "itemize": "Ctrl-I"
   },
   "labels_anchors": false,
   "latex_user_defs": false,
   "report_style_numbering": false,
   "user_envs_cfg": false
  }
 },
 "nbformat": 4,
 "nbformat_minor": 2
}
