{
 "cells": [
  {
   "cell_type": "markdown",
   "metadata": {},
   "source": [
    "## testing dictionary deletion and reordering"
   ]
  },
  {
   "cell_type": "code",
   "execution_count": 6,
   "metadata": {},
   "outputs": [],
   "source": [
    "groupMembers = {\n",
    "    '0': 'server0',\n",
    "    '1': 'server1',\n",
    "    '2': 'server2',\n",
    "    '3': 'server3'\n",
    "}"
   ]
  },
  {
   "cell_type": "code",
   "execution_count": 7,
   "metadata": {},
   "outputs": [
    {
     "name": "stdout",
     "output_type": "stream",
     "text": [
      "[0, 2, 3]\n"
     ]
    }
   ],
   "source": [
    "# delete 1 and reorder\n",
    "del groupMembers['1']\n",
    "memberNums = sorted([int(x) for x in groupMembers.keys()])\n",
    "print(memberNums)"
   ]
  },
  {
   "cell_type": "code",
   "execution_count": 8,
   "metadata": {},
   "outputs": [
    {
     "name": "stdout",
     "output_type": "stream",
     "text": [
      "This num: 2 is missing a number after last num: 0\n",
      "This num: 3 is missing a number after last num: 1\n",
      "{'0': 'server0', '1': 'server2', '2': 'server3'}\n"
     ]
    }
   ],
   "source": [
    "lastNum = -1\n",
    "for num in memberNums:\n",
    "    if num != lastNum + 1:\n",
    "        print('This num: {} is missing a number after last num: {}'.format(num, lastNum))\n",
    "        thisNumServer = groupMembers[str(num)]\n",
    "        del groupMembers[str(num)]\n",
    "        groupMembers[str(lastNum + 1)] = thisNumServer\n",
    "    lastNum += 1\n",
    "print(groupMembers)"
   ]
  },
  {
   "cell_type": "code",
   "execution_count": null,
   "metadata": {},
   "outputs": [],
   "source": []
  }
 ],
 "metadata": {
  "kernelspec": {
   "display_name": "Python 3",
   "language": "python",
   "name": "python3"
  },
  "language_info": {
   "codemirror_mode": {
    "name": "ipython",
    "version": 3
   },
   "file_extension": ".py",
   "mimetype": "text/x-python",
   "name": "python",
   "nbconvert_exporter": "python",
   "pygments_lexer": "ipython3",
   "version": "3.7.4"
  }
 },
 "nbformat": 4,
 "nbformat_minor": 4
}
