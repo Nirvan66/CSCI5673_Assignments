{
 "cells": [
  {
   "cell_type": "markdown",
   "metadata": {},
   "source": [
    "# Links\n",
    "https://pymotw.com/2/socket/multicast.html\n",
    "\n",
    "https://stackoverflow.com/questions/603852/how-do-you-udp-multicast-in-python\n",
    "\n",
    "https://stackoverflow.com/questions/33121208/loopback-in-multicast"
   ]
  },
  {
   "cell_type": "markdown",
   "metadata": {},
   "source": [
    "# Recieve"
   ]
  },
  {
   "cell_type": "code",
   "execution_count": 1,
   "metadata": {},
   "outputs": [
    {
     "name": "stdout",
     "output_type": "stream",
     "text": [
      "Binding mcast\n",
      "Binding ucast\n"
     ]
    }
   ],
   "source": [
    "import socket\n",
    "import struct\n",
    "\n",
    "# MULTICAST THINGS\n",
    "\n",
    "MCAST_GRP = '224.0.0.1'\n",
    "MCAST_PORT = 5050\n",
    "IS_ALL_GROUPS = True\n",
    "IS_MACOS = True\n",
    "LOCAL_HOST = True\n",
    "\n",
    "reuse_option = socket.SO_REUSEADDR if not IS_MACOS else socket.SO_REUSEPORT\n",
    "level_option = socket.IP_ADD_MEMBERSHIP if not LOCAL_HOST else socket.IP_MULTICAST_LOOP\n",
    "\n",
    "# UNICAST THINGS\n",
    "\n",
    "UCAST_ADDR = '127.0.0.1'\n",
    "UCAST_PORT = 8080\n",
    "\n",
    "# MULTICAST BINDINGS\n",
    "print('Binding mcast')\n",
    "mcast_sock = socket.socket(socket.AF_INET, socket.SOCK_DGRAM, socket.IPPROTO_UDP)\n",
    "mcast_sock.setsockopt(socket.SOL_SOCKET, reuse_option, 1) # for macos, socket.SO_REUSEPORT, linux socket.SO_REUSEADDR\n",
    "if IS_ALL_GROUPS and not IS_MACOS:\n",
    "    # on this port, receives ALL multicast groups\n",
    "    mcast_sock.bind(('', MCAST_PORT))\n",
    "else:\n",
    "    # on this port, listen ONLY to MCAST_GRP\n",
    "    mcast_sock.bind((MCAST_GRP, MCAST_PORT))\n",
    "mreq = struct.pack(\"4sl\", socket.inet_aton(MCAST_GRP), socket.INADDR_ANY)\n",
    "mcast_sock.setsockopt(socket.IPPROTO_IP, level_option, mreq) # socket.IP_MULTICAST_LOOP for the same machine\n",
    "\n",
    "# UNICAST BINDINGS\n",
    "print('Binding ucast')\n",
    "ucast_sock = socket.socket(socket.AF_INET, socket.SOCK_DGRAM)\n",
    "ucast_sock.bind((UCAST_ADDR, UCAST_PORT))"
   ]
  },
  {
   "cell_type": "code",
   "execution_count": 2,
   "metadata": {},
   "outputs": [
    {
     "name": "stdout",
     "output_type": "stream",
     "text": [
      "Waiting for next multicast message...\n",
      "Message: \n",
      "69\n",
      "Waiting for next unicast message...\n",
      "Message: \n",
      "420\n"
     ]
    }
   ],
   "source": [
    "print('Waiting for next multicast message...')\n",
    "mcast_recvval = mcast_sock.recv(10240)\n",
    "print('Message: \\n{}'.format(mcast_recvval.decode()))\n",
    "print('Waiting for next unicast message...')\n",
    "ucast_recvval = ucast_sock.recv(10240)\n",
    "print('Message: \\n{}'.format(ucast_recvval.decode()))"
   ]
  },
  {
   "cell_type": "code",
   "execution_count": null,
   "metadata": {},
   "outputs": [],
   "source": []
  }
 ],
 "metadata": {
  "kernelspec": {
   "display_name": "Python 3",
   "language": "python",
   "name": "python3"
  },
  "language_info": {
   "codemirror_mode": {
    "name": "ipython",
    "version": 3
   },
   "file_extension": ".py",
   "mimetype": "text/x-python",
   "name": "python",
   "nbconvert_exporter": "python",
   "pygments_lexer": "ipython3",
   "version": "3.7.4"
  },
  "latex_envs": {
   "LaTeX_envs_menu_present": true,
   "autoclose": false,
   "autocomplete": true,
   "bibliofile": "biblio.bib",
   "cite_by": "apalike",
   "current_citInitial": 1,
   "eqLabelWithNumbers": true,
   "eqNumInitial": 1,
   "hotkeys": {
    "equation": "Ctrl-E",
    "itemize": "Ctrl-I"
   },
   "labels_anchors": false,
   "latex_user_defs": false,
   "report_style_numbering": false,
   "user_envs_cfg": false
  }
 },
 "nbformat": 4,
 "nbformat_minor": 4
}
