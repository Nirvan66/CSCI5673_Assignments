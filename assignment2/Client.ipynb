{
 "cells": [
  {
   "cell_type": "markdown",
   "metadata": {},
   "source": [
    "# Client"
   ]
  },
  {
   "cell_type": "code",
   "execution_count": 1,
   "metadata": {},
   "outputs": [],
   "source": [
    "import socket  \n",
    "clientAddrPort = (\"127.0.0.1\", 20001) \n",
    "serverAddrPort = (\"224.0.0.1\", 5050)\n",
    "UDPClientSocket = socket.socket(family = socket.AF_INET, type = socket.SOCK_DGRAM) \n",
    "UDPClientSocket.bind(clientAddrPort) "
   ]
  },
  {
   "cell_type": "code",
   "execution_count": 2,
   "metadata": {},
   "outputs": [],
   "source": [
    "label = 11"
   ]
  },
  {
   "cell_type": "code",
   "execution_count": 3,
   "metadata": {},
   "outputs": [
    {
     "name": "stdout",
     "output_type": "stream",
     "text": [
      "Received: 0 \n",
      "from: ('127.0.0.1', 5050) \n",
      "QueueLabel: 11\n"
     ]
    }
   ],
   "source": [
    "message = ('qCreate',label)\n",
    "message = \",\".join(map(lambda x: str(x),message))\n",
    "UDPClientSocket.sendto(str.encode(message), serverAddrPort)\n",
    "data, addr = UDPClientSocket.recvfrom(10240)\n",
    "print(\"Received: {} \\nfrom: {} \\nQueueLabel: {}\".format(data.decode(),addr,label))"
   ]
  },
  {
   "cell_type": "code",
   "execution_count": 4,
   "metadata": {},
   "outputs": [
    {
     "name": "stdout",
     "output_type": "stream",
     "text": [
      "Received: 0 \n",
      "from: ('127.0.0.1', 5050) \n",
      "QueueLabel: 11\n"
     ]
    }
   ],
   "source": [
    "message = ('qId',label)\n",
    "message = \",\".join(map(lambda x: str(x),message))\n",
    "UDPClientSocket.sendto(str.encode(message), serverAddrPort)\n",
    "data, addr = UDPClientSocket.recvfrom(10240)\n",
    "queue_id = data.decode()\n",
    "print(\"Received: {} \\nfrom: {} \\nQueueLabel: {}\".format(queue_id,addr,label))"
   ]
  },
  {
   "cell_type": "code",
   "execution_count": 7,
   "metadata": {},
   "outputs": [
    {
     "data": {
      "text/plain": [
       "9"
      ]
     },
     "execution_count": 7,
     "metadata": {},
     "output_type": "execute_result"
    }
   ],
   "source": [
    "message = ('qPush',queue_id,6)\n",
    "message = \",\".join(map(lambda x: str(x),message))\n",
    "UDPClientSocket.sendto(str.encode(message), serverAddrPort)"
   ]
  },
  {
   "cell_type": "code",
   "execution_count": null,
   "metadata": {},
   "outputs": [],
   "source": [
    "message = ('qTop',queue_id)\n",
    "message = \",\".join(map(lambda x: str(x),message))\n",
    "UDPClientSocket.sendto(str.encode(message), serverAddrPort)\n",
    "data, addr = UDPClientSocket.recvfrom(10240)\n",
    "print(\"Received: {} \\nfrom: {} \\nQueueLabel: {}\".format(data.decode(),addr,label))"
   ]
  },
  {
   "cell_type": "code",
   "execution_count": 12,
   "metadata": {},
   "outputs": [
    {
     "name": "stdout",
     "output_type": "stream",
     "text": [
      "Received: 4 \n",
      "from: ('127.0.0.1', 5050) \n",
      "QueueLabel: 11\n"
     ]
    }
   ],
   "source": [
    "message = ('qPop',queue_id)\n",
    "message = \",\".join(map(lambda x: str(x),message))\n",
    "UDPClientSocket.sendto(str.encode(message), serverAddrPort)\n",
    "data, addr = UDPClientSocket.recvfrom(10240)\n",
    "print(\"Received: {} \\nfrom: {} \\nQueueLabel: {}\".format(data.decode(),addr,label))"
   ]
  },
  {
   "cell_type": "code",
   "execution_count": 13,
   "metadata": {},
   "outputs": [
    {
     "name": "stdout",
     "output_type": "stream",
     "text": [
      "Received: 0 \n",
      "from: ('127.0.0.1', 5050) \n",
      "QueueLabel: 11\n"
     ]
    }
   ],
   "source": [
    "message = ('qSize',queue_id)\n",
    "message = \",\".join(map(lambda x: str(x),message))\n",
    "UDPClientSocket.sendto(str.encode(message), serverAddrPort)\n",
    "data, addr = UDPClientSocket.recvfrom(10240)\n",
    "print(\"Received: {} \\nfrom: {} \\nQueueLabel: {}\".format(data.decode(),addr,label))"
   ]
  },
  {
   "cell_type": "code",
   "execution_count": null,
   "metadata": {},
   "outputs": [],
   "source": [
    "message = ('qDestroy',queue_id)\n",
    "message = \",\".join(map(lambda x: str(x),message))\n",
    "UDPClientSocket.sendto(str.encode(message), serverAddrPort)\n",
    "data, addr = UDPClientSocket.recvfrom(10240)\n",
    "print(\"Received: {} \\nfrom: {} \\nQueueLabel: {}\".format(data.decode(),addr,label))"
   ]
  }
 ],
 "metadata": {
  "kernelspec": {
   "display_name": "Python 3",
   "language": "python",
   "name": "python3"
  },
  "language_info": {
   "codemirror_mode": {
    "name": "ipython",
    "version": 3
   },
   "file_extension": ".py",
   "mimetype": "text/x-python",
   "name": "python",
   "nbconvert_exporter": "python",
   "pygments_lexer": "ipython3",
   "version": "3.7.4"
  },
  "latex_envs": {
   "LaTeX_envs_menu_present": true,
   "autoclose": false,
   "autocomplete": true,
   "bibliofile": "biblio.bib",
   "cite_by": "apalike",
   "current_citInitial": 1,
   "eqLabelWithNumbers": true,
   "eqNumInitial": 1,
   "hotkeys": {
    "equation": "Ctrl-E",
    "itemize": "Ctrl-I"
   },
   "labels_anchors": false,
   "latex_user_defs": false,
   "report_style_numbering": false,
   "user_envs_cfg": false
  }
 },
 "nbformat": 4,
 "nbformat_minor": 2
}
