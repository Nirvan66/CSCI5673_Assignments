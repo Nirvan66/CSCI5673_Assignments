{
 "cells": [
  {
   "cell_type": "markdown",
   "metadata": {},
   "source": [
    "# Client"
   ]
  },
  {
   "cell_type": "code",
   "execution_count": 6,
   "metadata": {},
   "outputs": [
    {
     "name": "stdout",
     "output_type": "stream",
     "text": [
      "enter your username : 17BIT0382\n",
      "enter your password : vivek\n",
      "Message from Server pwd match\n"
     ]
    }
   ],
   "source": [
    "import socket \n",
    "  \n",
    "# user input \n",
    "name = input('enter your username : ')      \n",
    "bytesToSend1 = str.encode(name) \n",
    "password = input('enter your password : ') \n",
    "bytesToSend2 = str.encode(password) \n",
    "  \n",
    "serverAddrPort = (\"127.0.0.1\", 20001) \n",
    "bufferSize = 1024\n",
    "  \n",
    "# conncting to hosts \n",
    "UDPClientSocket = socket.socket(family = socket.AF_INET, type = socket.SOCK_DGRAM)   \n",
    "  \n",
    "# sending username by encoding it \n",
    "UDPClientSocket.sendto(bytesToSend1, serverAddrPort)   \n",
    "# sending password by encoding it \n",
    "UDPClientSocket.sendto(bytesToSend2, serverAddrPort)   \n",
    "  \n",
    "# receiving status from server  \n",
    "msgFromServer = UDPClientSocket.recvfrom(bufferSize)   \n",
    "msg = \"Message from Server {}\".format(msgFromServer[0].decode())   \n",
    "print(msg) "
   ]
  },
  {
   "cell_type": "code",
   "execution_count": 7,
   "metadata": {},
   "outputs": [],
   "source": [
    "import socket \n",
    "serverAddrPort = (\"127.0.0.1\", 20001) \n",
    "bufferSize = 1024\n",
    "UDPClientSocket = socket.socket(family = socket.AF_INET, type = socket.SOCK_DGRAM)"
   ]
  },
  {
   "cell_type": "code",
   "execution_count": 14,
   "metadata": {},
   "outputs": [
    {
     "data": {
      "text/plain": [
       "1"
      ]
     },
     "execution_count": 14,
     "metadata": {},
     "output_type": "execute_result"
    }
   ],
   "source": [
    "UDPClientSocket.sendto(str.encode(str(1)), serverAddrPort) "
   ]
  },
  {
   "cell_type": "code",
   "execution_count": 9,
   "metadata": {},
   "outputs": [],
   "source": [
    "msg, addr = UDPClientSocket.recvfrom(bufferSize)"
   ]
  },
  {
   "cell_type": "code",
   "execution_count": null,
   "metadata": {},
   "outputs": [],
   "source": [
    "FTQueue = []"
   ]
  }
 ],
 "metadata": {
  "kernelspec": {
   "display_name": "Python 3",
   "language": "python",
   "name": "python3"
  },
  "language_info": {
   "codemirror_mode": {
    "name": "ipython",
    "version": 3
   },
   "file_extension": ".py",
   "mimetype": "text/x-python",
   "name": "python",
   "nbconvert_exporter": "python",
   "pygments_lexer": "ipython3",
   "version": "3.7.4"
  },
  "latex_envs": {
   "LaTeX_envs_menu_present": true,
   "autoclose": false,
   "autocomplete": true,
   "bibliofile": "biblio.bib",
   "cite_by": "apalike",
   "current_citInitial": 1,
   "eqLabelWithNumbers": true,
   "eqNumInitial": 1,
   "hotkeys": {
    "equation": "Ctrl-E",
    "itemize": "Ctrl-I"
   },
   "labels_anchors": false,
   "latex_user_defs": false,
   "report_style_numbering": false,
   "user_envs_cfg": false
  }
 },
 "nbformat": 4,
 "nbformat_minor": 2
}
