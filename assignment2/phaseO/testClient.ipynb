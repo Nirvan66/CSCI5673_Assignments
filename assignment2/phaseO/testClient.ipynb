{
 "cells": [
  {
   "cell_type": "markdown",
   "metadata": {},
   "source": [
    "# Test Client\n",
    "* Creators: Nirvan S P Theethira and Zach Allen McGrath\n",
    "* Date: 3/6/2020\n",
    "* Purpose: The test client is built for testing the group framework in `phaseO.py`. The client sends messages to server replicas regarding FTQueue operations. The client uses server group address to send messages to all servers in the group. The servers sequence these messages among themselves and send a single reply to the client. This skips the step of a single server having to foward the message to other servers before the sequencing algorithm is run. While the server group performs operation on replicated copies of FTQueue the client views this as a single FTQueue that it is updating or querying."
   ]
  },
  {
   "cell_type": "code",
   "execution_count": 1,
   "metadata": {},
   "outputs": [],
   "source": [
    "import socket  \n",
    "import uuid\n",
    "# unique client port address\n",
    "clientAddrPort = (\"127.0.0.1\", 20001) \n",
    "# server group address\n",
    "serverAddrPort = (\"224.0.0.1\", 5050)\n",
    "UDPClientSocket = socket.socket(family = socket.AF_INET, type = socket.SOCK_DGRAM) \n",
    "UDPClientSocket.bind(clientAddrPort)"
   ]
  },
  {
   "cell_type": "code",
   "execution_count": 2,
   "metadata": {},
   "outputs": [],
   "source": [
    "# label of queue to run operations on in FTQueue\n",
    "label = 12"
   ]
  },
  {
   "cell_type": "markdown",
   "metadata": {},
   "source": [
    "* Simulates `qCreate` request being sent by the client.\n",
    "* `Received` is the value returned by the server.\n",
    "* `from` is the unicast address of the server of the group that sent the reply.\n",
    "*  `QueueLabel` label of the queue the operation was run on."
   ]
  },
  {
   "cell_type": "code",
   "execution_count": 3,
   "metadata": {},
   "outputs": [
    {
     "name": "stdout",
     "output_type": "stream",
     "text": [
      "Received: 0 \n",
      "from: ('127.0.0.1', 8080) \n",
      "QueueLabel: 12\n"
     ]
    }
   ],
   "source": [
    "message = ('qCreate',label)\n",
    "message = \",\".join(map(lambda x: str(x),message))\n",
    "message = 'msg'+ ',' + str(uuid.uuid4()) + ',' + message\n",
    "UDPClientSocket.sendto(str.encode(message), serverAddrPort)\n",
    "data, addr = UDPClientSocket.recvfrom(10240)\n",
    "print(\"Received: {} \\nfrom: {} \\nQueueLabel: {}\".format(data.decode(),addr,label))"
   ]
  },
  {
   "cell_type": "markdown",
   "metadata": {},
   "source": [
    "* Simulates `qId` request being sent by the client.\n",
    "* `Received` is the value returned by the server.\n",
    "* `from` is the unicast address of the server of the group that sent the reply.\n",
    "*  `QueueLabel` label of the queue the operation was run on."
   ]
  },
  {
   "cell_type": "code",
   "execution_count": 4,
   "metadata": {},
   "outputs": [
    {
     "name": "stdout",
     "output_type": "stream",
     "text": [
      "Received: 0 \n",
      "from: ('127.0.0.1', 8081) \n",
      "QueueLabel: 12\n"
     ]
    }
   ],
   "source": [
    "message = ('qId',label)\n",
    "message = \",\".join(map(lambda x: str(x),message))\n",
    "message = 'msg'+ ',' + str(uuid.uuid4()) + ',' + message\n",
    "UDPClientSocket.sendto(str.encode(message), serverAddrPort)\n",
    "data, addr = UDPClientSocket.recvfrom(10240)\n",
    "queue_id = data.decode()\n",
    "print(\"Received: {} \\nfrom: {} \\nQueueLabel: {}\".format(queue_id,addr,label))"
   ]
  },
  {
   "cell_type": "markdown",
   "metadata": {},
   "source": [
    "* Simulates `qPush` request being sent by the client.\n",
    "* `Received` is the value returned by the server.\n",
    "* `from` is the unicast address of the server of the group that sent the reply.\n",
    "*  `QueueLabel` label of the queue the operation was run on."
   ]
  },
  {
   "cell_type": "code",
   "execution_count": 5,
   "metadata": {},
   "outputs": [
    {
     "data": {
      "text/plain": [
       "51"
      ]
     },
     "execution_count": 5,
     "metadata": {},
     "output_type": "execute_result"
    }
   ],
   "source": [
    "message = ('qPush',queue_id,12)\n",
    "message = \",\".join(map(lambda x: str(x),message))\n",
    "message = 'msg'+ ',' + str(uuid.uuid4()) + ',' + message\n",
    "UDPClientSocket.sendto(str.encode(message), serverAddrPort)"
   ]
  },
  {
   "cell_type": "markdown",
   "metadata": {},
   "source": [
    "* Simulates `qTop` request being sent by the client.\n",
    "* `Received` is the value returned by the server.\n",
    "* `from` is the unicast address of the server of the group that sent the reply.\n",
    "*  `QueueLabel` label of the queue the operation was run on."
   ]
  },
  {
   "cell_type": "code",
   "execution_count": 12,
   "metadata": {},
   "outputs": [
    {
     "name": "stdout",
     "output_type": "stream",
     "text": [
      "Received: -1 \n",
      "from: ('127.0.0.1', 8081) \n",
      "QueueLabel: 12\n"
     ]
    }
   ],
   "source": [
    "message = ('qTop',queue_id)\n",
    "message = \",\".join(map(lambda x: str(x),message))\n",
    "message = 'msg'+ ',' + str(uuid.uuid4()) + ',' + message\n",
    "UDPClientSocket.sendto(str.encode(message), serverAddrPort)\n",
    "data, addr = UDPClientSocket.recvfrom(10240)\n",
    "print(\"Received: {} \\nfrom: {} \\nQueueLabel: {}\".format(data.decode(),addr,label))"
   ]
  },
  {
   "cell_type": "markdown",
   "metadata": {},
   "source": [
    "* Simulates `qPop` request being sent by the client.\n",
    "* `Received` is the value returned by the server.\n",
    "* `from` is the unicast address of the server of the group that sent the reply.\n",
    "*  `QueueLabel` label of the queue the operation was run on."
   ]
  },
  {
   "cell_type": "code",
   "execution_count": 11,
   "metadata": {},
   "outputs": [
    {
     "name": "stdout",
     "output_type": "stream",
     "text": [
      "Received: 12 \n",
      "from: ('127.0.0.1', 8080) \n",
      "QueueLabel: 12\n"
     ]
    }
   ],
   "source": [
    "message = ('qPop',queue_id)\n",
    "message = \",\".join(map(lambda x: str(x),message))\n",
    "message = 'msg'+ ',' + str(uuid.uuid4()) + ',' + message\n",
    "UDPClientSocket.sendto(str.encode(message), serverAddrPort)\n",
    "data, addr = UDPClientSocket.recvfrom(10240)\n",
    "print(\"Received: {} \\nfrom: {} \\nQueueLabel: {}\".format(data.decode(),addr,label))"
   ]
  },
  {
   "cell_type": "markdown",
   "metadata": {},
   "source": [
    "* Simulates `qSize` request being sent by the client.\n",
    "* `Received` is the value returned by the server.\n",
    "* `from` is the unicast address of the server of the group that sent the reply.\n",
    "*  `QueueLabel` label of the queue the operation was run on."
   ]
  },
  {
   "cell_type": "code",
   "execution_count": 8,
   "metadata": {},
   "outputs": [
    {
     "name": "stdout",
     "output_type": "stream",
     "text": [
      "Received: 0 \n",
      "from: ('127.0.0.1', 8081) \n",
      "QueueLabel: 12\n"
     ]
    }
   ],
   "source": [
    "message = ('qSize',queue_id)\n",
    "message = \",\".join(map(lambda x: str(x),message))\n",
    "message = 'msg'+ ',' + str(uuid.uuid4()) + ',' + message\n",
    "UDPClientSocket.sendto(str.encode(message), serverAddrPort)\n",
    "data, addr = UDPClientSocket.recvfrom(10240)\n",
    "print(\"Received: {} \\nfrom: {} \\nQueueLabel: {}\".format(data.decode(),addr,label))"
   ]
  },
  {
   "cell_type": "markdown",
   "metadata": {},
   "source": [
    "* Simulates `qDestroy` request being sent by the client.\n",
    "* `Received` is the value returned by the server.\n",
    "* `from` is the unicast address of the server of the group that sent the reply.\n",
    "*  `QueueLabel` label of the queue the operation was run on."
   ]
  },
  {
   "cell_type": "code",
   "execution_count": 9,
   "metadata": {},
   "outputs": [
    {
     "data": {
      "text/plain": [
       "51"
      ]
     },
     "execution_count": 9,
     "metadata": {},
     "output_type": "execute_result"
    }
   ],
   "source": [
    "message = ('qDestroy',queue_id)\n",
    "message = \",\".join(map(lambda x: str(x),message))\n",
    "message = 'msg'+ ',' + str(uuid.uuid4()) + ',' + message\n",
    "UDPClientSocket.sendto(str.encode(message), serverAddrPort)"
   ]
  },
  {
   "cell_type": "code",
   "execution_count": null,
   "metadata": {},
   "outputs": [],
   "source": []
  }
 ],
 "metadata": {
  "kernelspec": {
   "display_name": "Python 3",
   "language": "python",
   "name": "python3"
  },
  "language_info": {
   "codemirror_mode": {
    "name": "ipython",
    "version": 3
   },
   "file_extension": ".py",
   "mimetype": "text/x-python",
   "name": "python",
   "nbconvert_exporter": "python",
   "pygments_lexer": "ipython3",
   "version": "3.7.4"
  },
  "latex_envs": {
   "LaTeX_envs_menu_present": true,
   "autoclose": false,
   "autocomplete": true,
   "bibliofile": "biblio.bib",
   "cite_by": "apalike",
   "current_citInitial": 1,
   "eqLabelWithNumbers": true,
   "eqNumInitial": 1,
   "hotkeys": {
    "equation": "Ctrl-E",
    "itemize": "Ctrl-I"
   },
   "labels_anchors": false,
   "latex_user_defs": false,
   "report_style_numbering": false,
   "user_envs_cfg": false
  }
 },
 "nbformat": 4,
 "nbformat_minor": 2
}
