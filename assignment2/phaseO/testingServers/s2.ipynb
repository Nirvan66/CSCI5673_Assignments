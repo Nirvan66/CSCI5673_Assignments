{
 "cells": [
  {
   "cell_type": "markdown",
   "metadata": {},
   "source": [
    "# Queue Stuff"
   ]
  },
  {
   "cell_type": "code",
   "execution_count": 1,
   "metadata": {},
   "outputs": [],
   "source": [
    "import queue\n",
    "class FTQueue:\n",
    "    def __init__(self):\n",
    "        self.Q = {}\n",
    "        \n",
    "    def qCreate(self, label):\n",
    "        qid = self.qId(label)\n",
    "        if qid==-1:\n",
    "            qid = max(list(self.Q.keys())+[-1])+1\n",
    "            self.Q[qid] = {'que':queue.Queue(),'label':label}\n",
    "        return qid\n",
    "        \n",
    "    def qId(self, label):\n",
    "        for k,v in self.Q.items():\n",
    "            if v['label'] == label:\n",
    "                return k\n",
    "        return -1\n",
    "    \n",
    "    def qPush(self, queue_id, item):\n",
    "        self.Q[queue_id]['que'].put(item)\n",
    "        \n",
    "    def qPop(self, queue_id):\n",
    "        return self.Q[queue_id]['que'].get(False)\n",
    "    \n",
    "    def qTop(self, queue_id):\n",
    "        return self.Q[queue_id]['que'].queue[0]\n",
    "    \n",
    "    def qSize(self, queue_id):\n",
    "        return self.Q[queue_id]['que'].qsize()\n",
    "    \n",
    "    def qDestroy(self, queue_id):\n",
    "        del self.Q[queue_id]\n",
    "\n",
    "def updateQueue(ftq, upComm):\n",
    "    print(\"Recived queue update command {}\".format(upComm))\n",
    "    if upComm[0]=='qCreate':\n",
    "        label = int(upComm[1])\n",
    "        return ftq.qCreate(label)\n",
    "        \n",
    "    elif upComm[0]=='qId':\n",
    "        label = int(upComm[1])\n",
    "        return ftq.qId(label)\n",
    "        \n",
    "    elif upComm[0]=='qPush':\n",
    "        queue_id = int(upComm[1])\n",
    "        item = int(upComm[2])\n",
    "        ftq.qPush(queue_id, item)\n",
    "        \n",
    "    elif upComm[0]=='qPop':\n",
    "        queue_id = int(upComm[1])\n",
    "        return ftq.qPop(queue_id)\n",
    "        \n",
    "    elif upComm[0]=='qTop':\n",
    "        queue_id = int(upComm[1])\n",
    "        return ftq.qTop(queue_id)\n",
    "        \n",
    "    elif upComm[0]=='qSize':\n",
    "        queue_id = int(upComm[1])\n",
    "        return ftq.qSize(queue_id)\n",
    "        \n",
    "    elif upComm[0]=='qDestroy':\n",
    "        queue_id = int(upComm[1])\n",
    "        ftq.qDestroy(queue_id)"
   ]
  },
  {
   "cell_type": "markdown",
   "metadata": {},
   "source": [
    "# Join group"
   ]
  },
  {
   "cell_type": "code",
   "execution_count": 2,
   "metadata": {},
   "outputs": [],
   "source": [
    "import socket\n",
    "import struct\n",
    "import regex as re\n",
    "import threading \n",
    "import os, sys\n",
    "import time\n",
    "\n",
    "MCAST_GRP = '224.0.0.1'\n",
    "MCAST_PORT = 5050\n",
    "IS_ALL_GROUPS = True\n",
    "IS_MACOS = False\n",
    "LOCAL_HOST = True\n",
    "\n",
    "reuse_option = socket.SO_REUSEADDR if not IS_MACOS else socket.SO_REUSEPORT\n",
    "level_option = socket.IP_ADD_MEMBERSHIP if not LOCAL_HOST else socket.IP_MULTICAST_LOOP\n",
    "\n",
    "mcast_sock = socket.socket(socket.AF_INET, socket.SOCK_DGRAM, socket.IPPROTO_UDP)\n",
    "mcast_sock.setsockopt(socket.SOL_SOCKET, reuse_option, 1) # for macos, socket.SO_REUSEPORT, linux socket.SO_REUSEADDR\n",
    "\n",
    "mcast_sock.bind((MCAST_GRP, MCAST_PORT))\n",
    "mreq = struct.pack(\"4sl\", socket.inet_aton(MCAST_GRP), socket.INADDR_ANY)\n",
    "mcast_sock.setsockopt(socket.IPPROTO_IP, level_option, mreq) # socket.IP_MULTICAST_LOOP for the same machine\n",
    "\n",
    "uniAddrPort = (\"127.0.0.1\", 8081)\n",
    "ucast_sock = socket.socket(socket.AF_INET, socket.SOCK_DGRAM)\n",
    "ucast_sock.bind(uniAddrPort)"
   ]
  },
  {
   "cell_type": "code",
   "execution_count": 3,
   "metadata": {},
   "outputs": [
    {
     "name": "stdout",
     "output_type": "stream",
     "text": [
      "Running Multicast Listner\n",
      "Running Unicast Listner\n"
     ]
    }
   ],
   "source": [
    "def mutiListner():\n",
    "    '''\n",
    "    Listens to group socket for messages\n",
    "    '''\n",
    "    print(\"Running Multicast Listner\")\n",
    "    while(multiRunning):\n",
    "        data, addr = mcast_sock.recvfrom(10240)\n",
    "        if addr!=uniAddrPort:\n",
    "            command = data.decode().split(',')\n",
    "            print(\"Received {} from {}\".format(command, addr))\n",
    "            commands.append((command, addr))\n",
    "\n",
    "def uniListner():\n",
    "    '''\n",
    "    Listens to unicast socket for messages\n",
    "    '''\n",
    "    print(\"Running Unicast Listner\")\n",
    "    while(uniRunning):\n",
    "        data, addr = ucast_sock.recvfrom(10240)\n",
    "        if addr!=uniAddrPort:\n",
    "            command = data.decode().split(',')\n",
    "            print(\"Received {} from {}\".format(command, addr))\n",
    "            commands.append((command, addr))\n",
    "\n",
    "commands = []\n",
    "\n",
    "multiRunning = True\n",
    "multiThread = threading.Thread(target=mutiListner, name='multicast')\n",
    "multiThread.daemon = True\n",
    "multiThread.start()\n",
    "\n",
    "uniRunning = True\n",
    "uniThread = threading.Thread(target=uniListner, name='unicast')\n",
    "uniThread.daemon = True\n",
    "uniThread.start()"
   ]
  },
  {
   "cell_type": "code",
   "execution_count": 4,
   "metadata": {},
   "outputs": [],
   "source": [
    "globalSeq = 0\n",
    "memberNumber = 1\n",
    "groupMembers = {memberNumber:uniAddrPort}\n",
    "FTq = FTQueue()\n",
    "messages = {}\n",
    "seqNumsSent = {}\n",
    "def commandsThread():\n",
    "    global globalSeq\n",
    "    global lastRerequest\n",
    "    while(comRunning):\n",
    "        time.sleep(0.5)\n",
    "        if len(commands):\n",
    "            c = commands.pop(0)\n",
    "            command = c[0]\n",
    "            addr = c[1]\n",
    "            print(\"Processing command {} from {}\".format(command,addr))\n",
    "            # if another member sends a join request to already existing group\n",
    "            if command[0]=='joinRequest':\n",
    "                newMemberNum = int(command[1])\n",
    "                print(\"Received join request from {}\".format(newMemberNum))\n",
    "                # if number already exists denie join request\n",
    "                if newMemberNum in groupMembers.keys():\n",
    "                    print(\"Member request for {} denied\".format(newMemberNum))\n",
    "                    denJoin = ('joinDenied',)\n",
    "                    denJoin = \",\".join(map(lambda x: str(x),denJoin))\n",
    "                    ucast_sock.sendto(str.encode(denJoin), addr)\n",
    "                # if member number does not exist accept join request\n",
    "                # send conformation with your member number\n",
    "                else:\n",
    "                    print(\"Member request for {} accepted\".format(newMemberNum))\n",
    "                    groupMembers[newMemberNum] = addr\n",
    "                    confJoin = ('joinConfirm', memberNumber)\n",
    "                    confJoin = \",\".join(map(lambda x: str(x),confJoin))\n",
    "                    ucast_sock.sendto(str.encode(confJoin), addr)\n",
    "\n",
    "            # collect confirmation messages sent by other group members.\n",
    "            # collect member numbers and addresses.\n",
    "            elif command[0]=='joinConfirm':\n",
    "                print(\"Received join confirmation from {}\".format(int(command[1])))\n",
    "                groupMembers[int(command[1])] = addr\n",
    "\n",
    "            # if denied exit for now     \n",
    "            elif command[0]=='joinDenied':\n",
    "                print(\"MEMBER NUMBER {} ALREADY EXISTS. PICK ANOTHER\".format(memberNumber))\n",
    "                time.sleep(0.5)\n",
    "                os._exit(0)\n",
    "\n",
    "            # if sequence number is received for a message\n",
    "            elif command[0]=='seq':\n",
    "                msgid = command[1]\n",
    "                seqNo = int(command[2])\n",
    "                print(\"Received sequence number {} from {}\".format(seqNo, seqNo%len(groupMembers)))\n",
    "                if seqNo==globalSeq:\n",
    "                    print(\"Sequence number {} EQUALS {}\".format(seqNo,globalSeq))\n",
    "                    globalSeq = seqNo + 1\n",
    "                    updateQueue(FTq, messages[msgid][0])\n",
    "                    del messages[msgid]\n",
    "                    print(\"Message {} processed and un buffered\".format(msgid))\n",
    "                        \n",
    "#                 elif seqNo>globalSeq:\n",
    "#                     print(\"NAK--Sequence number {} GREATER THAN {}--NAK\".format(seqNo,globalSeq))\n",
    "#                     for i in range(globalSeq+1,seqNo+1):\n",
    "#                         seqsrNum = i%len(groupMembers)\n",
    "#                         seqsrAddr = groupMembers[seqsrNum]\n",
    "#                         print(\"Re requesting seguence number {} from {}\".format(i,seqsrNum))\n",
    "#                         reseqM = ('reseq', i)\n",
    "#                         reseqM = \",\".join(map(lambda x: str(x),reseqM))\n",
    "#                         ucast_sock.sendto(str.encode(reseqM), seqsrAddr)\n",
    "                else:\n",
    "                    print(\"Dropped sequence message {} TOO BIG\".format(seqNo))\n",
    "                            \n",
    "            # if a msg is recived from the client\n",
    "            elif command[0]=='msg':\n",
    "                if command[1] not in messages.keys():\n",
    "                    print(\"Received msg {} with id {}\".format(command[2:],command[1]))\n",
    "                    if globalSeq%len(groupMembers) == memberNumber:\n",
    "                        print(\"SEQUENCING MESSAGE\")\n",
    "                        seqNumsSent[globalSeq] = command[1]\n",
    "                        if globalSeq not in [2]:\n",
    "                            segM = ('seq', command[1], globalSeq)\n",
    "                            segM = \",\".join(map(lambda x: str(x),segM))\n",
    "                            ucast_sock.sendto(str.encode(segM), (MCAST_GRP, MCAST_PORT))\n",
    "                        globalSeq = globalSeq + 1\n",
    "                        ret = updateQueue(FTq, command[2:])\n",
    "                        if ret!=None:\n",
    "                            print(\"Sending: {}\".format(ret))\n",
    "                            ucast_sock.sendto(str.encode(str(ret)), addr)\n",
    "                    else:\n",
    "                        print(\"NOT SEQUENCING MESSAGE\")\n",
    "                        messages[command[1]] = (command[2:],addr)\n",
    "            # if some group member misses sequenceing a message\n",
    "            # it asks for a retransmission of that sequence message\n",
    "            # from the memeber responsible for creating the sequence.\n",
    "            elif command[0]=='reseq':\n",
    "                seqNum = int(command[1])\n",
    "                print(\"Received reseq message for seq num {}\".format(seqNum))\n",
    "                seqM = ('seq', seqNumsSent[seqNum], seqNum)\n",
    "                seqM = \",\".join(map(lambda x: str(x),seqM))\n",
    "                ucast_sock.sendto(str.encode(seqM), addr)\n",
    "                \n",
    "            else:\n",
    "                print(\"Invalid Command\")\n",
    "                \n",
    "        elif len(messages):\n",
    "            seqsrNum = (globalSeq)%len(groupMembers)\n",
    "            if not testBuildup:\n",
    "                if seqsrNum == memberNumber:\n",
    "                    rndMsg = list(messages.keys())[0]\n",
    "                    print(\"Caught up with message losses. SQUENCING {}\".format(rndMsg))\n",
    "                    seqNumsSent[globalSeq] = rndMsg\n",
    "                    seqM = ('seq', rndMsg, globalSeq)\n",
    "                    seqM = \",\".join(map(lambda x: str(x),seqM))\n",
    "                    ucast_sock.sendto(str.encode(seqM), (MCAST_GRP, MCAST_PORT))\n",
    "                    globalSeq = globalSeq + 1\n",
    "                    ret = updateQueue(FTq, messages[rndMsg][0])\n",
    "                    if ret!=None:\n",
    "                        print(\"Caught up. Sending: {}\".format(ret))\n",
    "                        addr = messages[rndMsg][1]\n",
    "                        ucast_sock.sendto(str.encode(str(ret)), addr)\n",
    "                    del messages[rndMsg]\n",
    "                    print(\"All caught up. Message {} un buffered\".format(msgid))\n",
    "                else:\n",
    "                    seqsrAddr = groupMembers[seqsrNum]\n",
    "                    print(\"Re requesting seguence number {} from group member {}\"\n",
    "                          .format(globalSeq,seqsrNum))\n",
    "                    reseqM = ('reseq', globalSeq)\n",
    "                    reseqM = \",\".join(map(lambda x: str(x),reseqM))\n",
    "                    ucast_sock.sendto(str.encode(reseqM), seqsrAddr)\n",
    "\n",
    "testBuildup = True\n",
    "comRunning = True\n",
    "comThread = threading.Thread(target=commandsThread, name='comm')\n",
    "comThread.daemon = True\n",
    "comThread.start()           "
   ]
  },
  {
   "cell_type": "code",
   "execution_count": 5,
   "metadata": {},
   "outputs": [
    {
     "data": {
      "text/plain": [
       "13"
      ]
     },
     "execution_count": 5,
     "metadata": {},
     "output_type": "execute_result"
    },
    {
     "name": "stdout",
     "output_type": "stream",
     "text": [
      "Received ['joinConfirm', '0'] from ('127.0.0.1', 8080)\n",
      "Processing command ['joinConfirm', '0'] from ('127.0.0.1', 8080)\n",
      "Received join confirmation from 0\n"
     ]
    }
   ],
   "source": [
    "# joining group\n",
    "joinM = ('joinRequest', memberNumber)\n",
    "joinM = \",\".join(map(lambda x: str(x),joinM))\n",
    "ucast_sock.sendto(str.encode(joinM), (MCAST_GRP, MCAST_PORT))"
   ]
  },
  {
   "cell_type": "code",
   "execution_count": 9,
   "metadata": {
    "scrolled": true
   },
   "outputs": [
    {
     "name": "stdout",
     "output_type": "stream",
     "text": [
      "Group Members:\n",
      "{1: ('127.0.0.1', 8081), 0: ('127.0.0.1', 8080)}\n",
      "\n",
      "FTq.Q:\n",
      "{0: {'que': <queue.Queue object at 0x7ffb88cf8b90>, 'label': 12}}\n",
      "\n",
      "Client Messages:\n",
      "{}\n",
      "\n",
      "Sequence Numbers:\n",
      "{1: 'd66bd9e9-1e00-4b94-b743-d99661860c95', 3: '669274ec-4023-4795-b619-da6c3e66e784'}\n",
      "\n",
      "Global Sequence Num:\n",
      "4\n"
     ]
    }
   ],
   "source": [
    "print(\"Group Members:\\n{}\".format(groupMembers))\n",
    "print(\"\\nFTq.Q:\\n{}\".format(FTq.Q))\n",
    "print(\"\\nClient Messages:\\n{}\".format(messages))\n",
    "print(\"\\nSequence Numbers:\\n{}\".format(seqNumsSent))\n",
    "print(\"\\nGlobal Sequence Num:\\n{}\".format(globalSeq))"
   ]
  },
  {
   "cell_type": "code",
   "execution_count": 8,
   "metadata": {},
   "outputs": [
    {
     "name": "stdout",
     "output_type": "stream",
     "text": [
      "Re requesting seguence number 2 from group member 0\n",
      "Received ['seq', 'c06c3273-5ba3-43a3-9a08-cd4e13420b49', '2'] from ('127.0.0.1', 8080)\n",
      "Processing command ['seq', 'c06c3273-5ba3-43a3-9a08-cd4e13420b49', '2'] from ('127.0.0.1', 8080)\n",
      "Received sequence number 2 from 0\n",
      "Sequence number 2 EQUALS 2\n",
      "Recived queue update command ['qPush', '0', '8']\n",
      "Message c06c3273-5ba3-43a3-9a08-cd4e13420b49 processed and un buffered\n",
      "Caught up with message losses. SQUENCING 669274ec-4023-4795-b619-da6c3e66e784\n",
      "Recived queue update command ['qPush', '0', '9']\n",
      "All caught up. Message c06c3273-5ba3-43a3-9a08-cd4e13420b49 un buffered\n"
     ]
    }
   ],
   "source": [
    "testBuildup = False"
   ]
  },
  {
   "cell_type": "code",
   "execution_count": 13,
   "metadata": {},
   "outputs": [
    {
     "data": {
      "text/plain": [
       "deque([])"
      ]
     },
     "execution_count": 13,
     "metadata": {},
     "output_type": "execute_result"
    }
   ],
   "source": [
    "FTq.Q[0]['que'].queue"
   ]
  },
  {
   "cell_type": "code",
   "execution_count": 10,
   "metadata": {
    "scrolled": true
   },
   "outputs": [
    {
     "data": {
      "text/plain": [
       "1"
      ]
     },
     "execution_count": 10,
     "metadata": {},
     "output_type": "execute_result"
    },
    {
     "name": "stdout",
     "output_type": "stream",
     "text": [
      "Received ['msg', '0ca725a5-fbe7-4981-bca6-518629433354', 'qPush', '0', '8'] from ('127.0.0.1', 20001)\n",
      "Processing command ['msg', '0ca725a5-fbe7-4981-bca6-518629433354', 'qPush', '0', '8'] from ('127.0.0.1', 20001)\n",
      "Received msg ['qPush', '0', '8'] with id 0ca725a5-fbe7-4981-bca6-518629433354\n",
      "NOT SEQUENCING MESSAGE\n"
     ]
    }
   ],
   "source": [
    "1"
   ]
  },
  {
   "cell_type": "code",
   "execution_count": null,
   "metadata": {},
   "outputs": [],
   "source": []
  }
 ],
 "metadata": {
  "kernelspec": {
   "display_name": "Python 3",
   "language": "python",
   "name": "python3"
  },
  "language_info": {
   "codemirror_mode": {
    "name": "ipython",
    "version": 3
   },
   "file_extension": ".py",
   "mimetype": "text/x-python",
   "name": "python",
   "nbconvert_exporter": "python",
   "pygments_lexer": "ipython3",
   "version": "3.7.4"
  },
  "latex_envs": {
   "LaTeX_envs_menu_present": true,
   "autoclose": false,
   "autocomplete": true,
   "bibliofile": "biblio.bib",
   "cite_by": "apalike",
   "current_citInitial": 1,
   "eqLabelWithNumbers": true,
   "eqNumInitial": 1,
   "hotkeys": {
    "equation": "Ctrl-E",
    "itemize": "Ctrl-I"
   },
   "labels_anchors": false,
   "latex_user_defs": false,
   "report_style_numbering": false,
   "user_envs_cfg": false
  }
 },
 "nbformat": 4,
 "nbformat_minor": 2
}
