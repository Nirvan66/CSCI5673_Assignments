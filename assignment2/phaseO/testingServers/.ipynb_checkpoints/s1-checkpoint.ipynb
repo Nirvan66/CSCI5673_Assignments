{
 "cells": [
  {
   "cell_type": "code",
   "execution_count": 2,
   "metadata": {},
   "outputs": [],
   "source": [
    "import socket\n",
    "import struct\n",
    "import regex as re\n",
    "import threading \n",
    "import os, sys\n",
    "import time\n",
    "sys.path.append('/home/nirvan/Desktop/github/CSCI5673_Assignments/assignment2/phaseO') \n",
    "import phaseO\n",
    "\n",
    "MCAST_GRP = '224.0.0.1'\n",
    "MCAST_PORT = 5050\n",
    "multiAddrPort = (MCAST_GRP, MCAST_PORT)\n",
    "\n",
    "IS_MACOS = False\n",
    "LOCAL_HOST = True\n",
    "\n",
    "reuse_option = socket.SO_REUSEADDR if not IS_MACOS else socket.SO_REUSEPORT\n",
    "level_option = socket.IP_ADD_MEMBERSHIP if not LOCAL_HOST else socket.IP_MULTICAST_LOOP\n",
    "\n",
    "mcast_sock = socket.socket(socket.AF_INET, socket.SOCK_DGRAM, socket.IPPROTO_UDP)\n",
    "mcast_sock.setsockopt(socket.SOL_SOCKET, reuse_option, 1) # for macos, socket.SO_REUSEPORT, linux socket.SO_REUSEADDR\n",
    "\n",
    "mcast_sock.bind((MCAST_GRP, MCAST_PORT))\n",
    "mreq = struct.pack(\"4sl\", socket.inet_aton(MCAST_GRP), socket.INADDR_ANY)\n",
    "mcast_sock.setsockopt(socket.IPPROTO_IP, level_option, mreq) # socket.IP_MULTICAST_LOOP for the same machine\n",
    "\n",
    "uniAddrPort = (\"127.0.0.1\", 8080)\n",
    "ucast_sock = socket.socket(socket.AF_INET, socket.SOCK_DGRAM)\n",
    "ucast_sock.bind(uniAddrPort)"
   ]
  },
  {
   "cell_type": "code",
   "execution_count": 1,
   "metadata": {},
   "outputs": [],
   "source": [
    "import sys\n",
    "sys.path.append('/home/nirvan/Desktop/github/CSCI5673_Assignments/assignment2/phaseO') "
   ]
  },
  {
   "cell_type": "code",
   "execution_count": 2,
   "metadata": {},
   "outputs": [],
   "source": [
    "import phaseO"
   ]
  },
  {
   "cell_type": "code",
   "execution_count": 3,
   "metadata": {},
   "outputs": [
    {
     "name": "stdout",
     "output_type": "stream",
     "text": [
      "Running Multicast Listner\n",
      "Running Unicast Listner\n"
     ]
    }
   ],
   "source": [
    "commands = []\n",
    "\n",
    "multiRunning = []\n",
    "multiThread = threading.Thread(target=phaseO.mutiListner, name='multicast', \n",
    "    args=(multiRunning, commands, mcast_sock, uniAddrPort))\n",
    "multiThread.daemon = True\n",
    "multiThread.start()\n",
    "\n",
    "uniRunning = []\n",
    "uniThread = threading.Thread(target=phaseO.uniListner, name='unicast', \n",
    "    args=(uniRunning, commands, ucast_sock, uniAddrPort))\n",
    "uniThread.daemon = True\n",
    "uniThread.start()\n",
    "\n",
    "globalSeq = [0]\n",
    "memberNumber = 0\n",
    "groupMembers = {memberNumber:uniAddrPort}\n",
    "FTq = phaseO.FTQueue()\n",
    "messages = {}\n",
    "seqNumsSent = {}\n",
    "testBuildup = []\n",
    "\n",
    "midRunning = []\n",
    "midThread = threading.Thread(target=phaseO.middlewareThread, name='middleware', \n",
    "    args=(midRunning, globalSeq, memberNumber, groupMembers, \n",
    "        FTq, commands, messages, seqNumsSent, \n",
    "        ucast_sock, multiAddrPort, [2],testBuildup))\n",
    "midThread.daemon = True\n",
    "midThread.start()"
   ]
  },
  {
   "cell_type": "code",
   "execution_count": 4,
   "metadata": {},
   "outputs": [
    {
     "data": {
      "text/plain": [
       "13"
      ]
     },
     "execution_count": 4,
     "metadata": {},
     "output_type": "execute_result"
    }
   ],
   "source": [
    "# joining group\n",
    "joinM = ('joinRequest', memberNumber)\n",
    "joinM = \",\".join(map(lambda x: str(x),joinM))\n",
    "ucast_sock.sendto(str.encode(joinM), (MCAST_GRP, MCAST_PORT))"
   ]
  },
  {
   "cell_type": "code",
   "execution_count": 10,
   "metadata": {},
   "outputs": [
    {
     "name": "stdout",
     "output_type": "stream",
     "text": [
      "Group Members:\n",
      "{0: ('127.0.0.1', 8080), 1: ('127.0.0.1', 8081)}\n",
      "\n",
      "FTq.Q:\n",
      "{0: {'que': <queue.Queue object at 0x7f8da459a690>, 'label': 12}}\n",
      "\n",
      "Client Messages:\n",
      "{}\n",
      "\n",
      "Sequence Numbers:\n",
      "{0: '28ec3a80-c86b-40a0-850a-61b9c115f1cd', 2: 'f44755c4-7757-4804-83d5-b53288200316'}\n",
      "\n",
      "Global Sequence Num:\n",
      "[4]\n"
     ]
    }
   ],
   "source": [
    "print(\"Group Members:\\n{}\".format(groupMembers))\n",
    "print(\"\\nFTq.Q:\\n{}\".format(FTq.Q))\n",
    "print(\"\\nClient Messages:\\n{}\".format(messages))\n",
    "print(\"\\nSequence Numbers:\\n{}\".format(seqNumsSent))\n",
    "print(\"\\nGlobal Sequence Num:\\n{}\".format(globalSeq))"
   ]
  },
  {
   "cell_type": "code",
   "execution_count": 8,
   "metadata": {},
   "outputs": [
    {
     "ename": "KeyError",
     "evalue": "0",
     "output_type": "error",
     "traceback": [
      "\u001b[0;31m---------------------------------------------------------------------------\u001b[0m",
      "\u001b[0;31mKeyError\u001b[0m                                  Traceback (most recent call last)",
      "\u001b[0;32m<ipython-input-8-848511631601>\u001b[0m in \u001b[0;36m<module>\u001b[0;34m\u001b[0m\n\u001b[0;32m----> 1\u001b[0;31m \u001b[0mFTq\u001b[0m\u001b[0;34m.\u001b[0m\u001b[0mQ\u001b[0m\u001b[0;34m[\u001b[0m\u001b[0;36m0\u001b[0m\u001b[0;34m]\u001b[0m\u001b[0;34m[\u001b[0m\u001b[0;34m'que'\u001b[0m\u001b[0;34m]\u001b[0m\u001b[0;34m.\u001b[0m\u001b[0mqueue\u001b[0m\u001b[0;34m\u001b[0m\u001b[0;34m\u001b[0m\u001b[0m\n\u001b[0m",
      "\u001b[0;31mKeyError\u001b[0m: 0"
     ]
    },
    {
     "name": "stdout",
     "output_type": "stream",
     "text": [
      "Received ['msg', '28ec3a80-c86b-40a0-850a-61b9c115f1cd', 'qCreate', '12'] from ('127.0.0.1', 20001)\n",
      "\n",
      "Processing command ['msg', '28ec3a80-c86b-40a0-850a-61b9c115f1cd', 'qCreate', '12'] from ('127.0.0.1', 20001)\n",
      "Received msg ['qCreate', '12'] with id 28ec3a80-c86b-40a0-850a-61b9c115f1cd\n",
      "SEQUENCING MESSAGE as 0\n",
      "Incrementing global seq number to 1\n",
      "Recived queue update command ['qCreate', '12']\n",
      "Sending: 0\n",
      "\n",
      "Received ['msg', '86f3c215-f004-40e4-a351-b65376a89634', 'qId', '12'] from ('127.0.0.1', 20001)\n",
      "\n",
      "Processing command ['msg', '86f3c215-f004-40e4-a351-b65376a89634', 'qId', '12'] from ('127.0.0.1', 20001)\n",
      "Received msg ['qId', '12'] with id 86f3c215-f004-40e4-a351-b65376a89634\n",
      "NOT SEQUENCING MESSAGE\n",
      "\n",
      "Received ['seq', '86f3c215-f004-40e4-a351-b65376a89634', '1'] from ('127.0.0.1', 8081)\n",
      "\n",
      "Processing command ['seq', '86f3c215-f004-40e4-a351-b65376a89634', '1'] from ('127.0.0.1', 8081)\n",
      "Received sequence number 1 from 1\n",
      "Sequence number 1 EQUALS 1\n",
      "Recived queue update command ['qId', '12']\n",
      "Incrementing global seq number to 2\n",
      "Message 86f3c215-f004-40e4-a351-b65376a89634 processed and un buffered\n",
      "\n",
      "Received ['msg', 'f44755c4-7757-4804-83d5-b53288200316', 'qPush', '0', '10'] from ('127.0.0.1', 20001)\n",
      "\n",
      "Processing command ['msg', 'f44755c4-7757-4804-83d5-b53288200316', 'qPush', '0', '10'] from ('127.0.0.1', 20001)\n",
      "Received msg ['qPush', '0', '10'] with id f44755c4-7757-4804-83d5-b53288200316\n",
      "SEQUENCING MESSAGE as 2\n",
      "Incrementing global seq number to 3\n",
      "Recived queue update command ['qPush', '0', '10']\n",
      "\n",
      "Received ['msg', 'fc96dbf9-f81b-4a89-9133-703b8028ab8c', 'qPush', '0', '10'] from ('127.0.0.1', 20001)\n",
      "\n",
      "Processing command ['msg', 'fc96dbf9-f81b-4a89-9133-703b8028ab8c', 'qPush', '0', '10'] from ('127.0.0.1', 20001)\n",
      "Received msg ['qPush', '0', '10'] with id fc96dbf9-f81b-4a89-9133-703b8028ab8c\n",
      "NOT SEQUENCING MESSAGE\n",
      "\n"
     ]
    }
   ],
   "source": [
    "FTq.Q[0]['que'].queue"
   ]
  },
  {
   "cell_type": "code",
   "execution_count": 2,
   "metadata": {},
   "outputs": [
    {
     "data": {
      "text/plain": [
       "1"
      ]
     },
     "execution_count": 2,
     "metadata": {},
     "output_type": "execute_result"
    }
   ],
   "source": [
    "1"
   ]
  },
  {
   "cell_type": "code",
   "execution_count": null,
   "metadata": {},
   "outputs": [],
   "source": []
  }
 ],
 "metadata": {
  "kernelspec": {
   "display_name": "Python 3",
   "language": "python",
   "name": "python3"
  },
  "language_info": {
   "codemirror_mode": {
    "name": "ipython",
    "version": 3
   },
   "file_extension": ".py",
   "mimetype": "text/x-python",
   "name": "python",
   "nbconvert_exporter": "python",
   "pygments_lexer": "ipython3",
   "version": "3.7.4"
  },
  "latex_envs": {
   "LaTeX_envs_menu_present": true,
   "autoclose": false,
   "autocomplete": true,
   "bibliofile": "biblio.bib",
   "cite_by": "apalike",
   "current_citInitial": 1,
   "eqLabelWithNumbers": true,
   "eqNumInitial": 1,
   "hotkeys": {
    "equation": "Ctrl-E",
    "itemize": "Ctrl-I"
   },
   "labels_anchors": false,
   "latex_user_defs": false,
   "report_style_numbering": false,
   "user_envs_cfg": false
  }
 },
 "nbformat": 4,
 "nbformat_minor": 2
}
