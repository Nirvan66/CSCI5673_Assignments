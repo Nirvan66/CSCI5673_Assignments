{
 "cells": [
  {
   "cell_type": "markdown",
   "metadata": {},
   "source": [
    "# Send"
   ]
  },
  {
   "cell_type": "code",
   "execution_count": 1,
   "metadata": {},
   "outputs": [],
   "source": [
    "import socket\n",
    "\n",
    "# MCAST STUFF\n",
    "MCAST_GRP = '224.0.0.1'\n",
    "MCAST_PORT = 5050\n",
    "# regarding socket.IP_MULTICAST_TTL\n",
    "# ---------------------------------\n",
    "# for all packets sent, after two hops on the network the packet will not \n",
    "# be re-sent/broadcast (see https://www.tldp.org/HOWTO/Multicast-HOWTO-6.html)\n",
    "MULTICAST_TTL = 100\n",
    "\n",
    "LOCAL_HOST = True\n",
    "\n",
    "level_option = socket.IP_MULTICAST_LOOP if LOCAL_HOST else socket.IP_MULTICAST_TTL\n",
    "\n",
    "# UCAST STUFF\n",
    "UCAST_ADDR = '127.0.0.1'\n",
    "UCAST_PORT = 8080\n",
    "\n",
    "# MCAST SOCKET SETUP\n",
    "mcast_sock = socket.socket(socket.AF_INET, socket.SOCK_DGRAM, socket.IPPROTO_UDP)\n",
    "mcast_sock.setsockopt(socket.IPPROTO_IP, socket.IP_MULTICAST_LOOP, MULTICAST_TTL)\n",
    "# send_status = sock.sendto(\"69\".encode(), (MCAST_GRP, MCAST_PORT))\n",
    "# if send_status == -1:\n",
    "#     print('error sending message')\n",
    "\n",
    "# UCAST SOCKET SETUP\n",
    "ucast_sock = socket.socket(socket.AF_INET, socket.SOCK_DGRAM)"
   ]
  },
  {
   "cell_type": "code",
   "execution_count": 2,
   "metadata": {},
   "outputs": [],
   "source": [
    "# SEND MCAST MESSAGE\n",
    "mcast_send_status = mcast_sock.sendto(\"69\".encode(), (MCAST_GRP, MCAST_PORT))\n",
    "if mcast_send_status == -1:\n",
    "    print('error sending message')\n",
    "    \n",
    "# SEND UCAST MESSAGE\n",
    "ucast_send_status = ucast_sock.sendto(\"420\".encode(), (UCAST_ADDR, UCAST_PORT))"
   ]
  },
  {
   "cell_type": "code",
   "execution_count": null,
   "metadata": {},
   "outputs": [],
   "source": []
  }
 ],
 "metadata": {
  "kernelspec": {
   "display_name": "Python 3",
   "language": "python",
   "name": "python3"
  },
  "language_info": {
   "codemirror_mode": {
    "name": "ipython",
    "version": 3
   },
   "file_extension": ".py",
   "mimetype": "text/x-python",
   "name": "python",
   "nbconvert_exporter": "python",
   "pygments_lexer": "ipython3",
   "version": "3.7.4"
  },
  "latex_envs": {
   "LaTeX_envs_menu_present": true,
   "autoclose": false,
   "autocomplete": true,
   "bibliofile": "biblio.bib",
   "cite_by": "apalike",
   "current_citInitial": 1,
   "eqLabelWithNumbers": true,
   "eqNumInitial": 1,
   "hotkeys": {
    "equation": "Ctrl-E",
    "itemize": "Ctrl-I"
   },
   "labels_anchors": false,
   "latex_user_defs": false,
   "report_style_numbering": false,
   "user_envs_cfg": false
  }
 },
 "nbformat": 4,
 "nbformat_minor": 4
}
