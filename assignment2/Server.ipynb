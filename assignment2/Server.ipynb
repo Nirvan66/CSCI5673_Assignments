{
 "cells": [
  {
   "cell_type": "code",
   "execution_count": null,
   "metadata": {},
   "outputs": [
    {
     "name": "stdout",
     "output_type": "stream",
     "text": [
      "UDP server up and listening\n"
     ]
    }
   ],
   "source": [
    "import socket \n",
    "  \n",
    "localIP = \"127.0.0.1\"\n",
    "localPort = 20001\n",
    "bufferSize = 1024\n",
    "  \n",
    "UDPServerSocket = socket.socket(family = socket.AF_INET, type = socket.SOCK_DGRAM) \n",
    "UDPServerSocket.bind((localIP, localPort)) \n",
    "print(\"UDP server up and listening\") \n",
    "  \n",
    "# this might be database or a file \n",
    "di ={'17BIT0382':'vivek', '17BEC0647':'shikhar', '17BEC0150':'tanveer', \n",
    "'17BCE2119':'sahil', '17BIT0123':'sidhant'}  \n",
    "  \n",
    "while(True): \n",
    "    # receiving name from client \n",
    "    name, addr1 = UDPServerSocket.recvfrom(bufferSize)   \n",
    "\n",
    "    # receivinf pwd from client \n",
    "    pwd, addr1 = UDPServerSocket.recvfrom(bufferSize)   \n",
    "\n",
    "    name = name.decode()   \n",
    "    pwd = pwd.decode() \n",
    "    msg ='' \n",
    "    if name not in di: \n",
    "        msg ='name does not exists'\n",
    "        flag = 0\n",
    "    for i in di: \n",
    "        if i == name: \n",
    "            if di[i]== pwd: \n",
    "                msg =\"pwd match\"\n",
    "                flag = 1\n",
    "            else: \n",
    "                msg =\"pwd wrong\"\n",
    "        bytesToSend = str.encode(msg) \n",
    "        # sending encoded status of name and pwd \n",
    "        UDPServerSocket.sendto(bytesToSend, addr1)  "
   ]
  },
  {
   "cell_type": "code",
   "execution_count": 1,
   "metadata": {},
   "outputs": [],
   "source": [
    "import socket \n",
    "  \n",
    "clientAddrPort = (\"127.0.0.1\", 20001) \n",
    "bufferSize = 1024\n",
    "UDPServerSocket = socket.socket(family = socket.AF_INET, type = socket.SOCK_DGRAM) \n",
    "UDPServerSocket.bind(clientAddrPort) "
   ]
  },
  {
   "cell_type": "code",
   "execution_count": 8,
   "metadata": {},
   "outputs": [
    {
     "name": "stdout",
     "output_type": "stream",
     "text": [
      "b'1'\n"
     ]
    }
   ],
   "source": [
    "name, addr1 = UDPServerSocket.recvfrom(bufferSize)\n",
    "print(name)"
   ]
  },
  {
   "cell_type": "code",
   "execution_count": 10,
   "metadata": {},
   "outputs": [
    {
     "data": {
      "text/plain": [
       "1"
      ]
     },
     "execution_count": 10,
     "metadata": {},
     "output_type": "execute_result"
    }
   ],
   "source": [
    "name.decode()"
   ]
  },
  {
   "cell_type": "code",
   "execution_count": 6,
   "metadata": {},
   "outputs": [
    {
     "data": {
      "text/plain": [
       "12"
      ]
     },
     "execution_count": 6,
     "metadata": {},
     "output_type": "execute_result"
    }
   ],
   "source": [
    "UDPServerSocket.sendto(str.encode(\"howdy_server\"), addr1) "
   ]
  },
  {
   "cell_type": "code",
   "execution_count": 11,
   "metadata": {},
   "outputs": [],
   "source": [
    "import queue\n",
    "q = queue.Queue()\n"
   ]
  }
 ],
 "metadata": {
  "kernelspec": {
   "display_name": "Python 3",
   "language": "python",
   "name": "python3"
  },
  "language_info": {
   "codemirror_mode": {
    "name": "ipython",
    "version": 3
   },
   "file_extension": ".py",
   "mimetype": "text/x-python",
   "name": "python",
   "nbconvert_exporter": "python",
   "pygments_lexer": "ipython3",
   "version": "3.7.4"
  },
  "latex_envs": {
   "LaTeX_envs_menu_present": true,
   "autoclose": false,
   "autocomplete": true,
   "bibliofile": "biblio.bib",
   "cite_by": "apalike",
   "current_citInitial": 1,
   "eqLabelWithNumbers": true,
   "eqNumInitial": 1,
   "hotkeys": {
    "equation": "Ctrl-E",
    "itemize": "Ctrl-I"
   },
   "labels_anchors": false,
   "latex_user_defs": false,
   "report_style_numbering": false,
   "user_envs_cfg": false
  }
 },
 "nbformat": 4,
 "nbformat_minor": 2
}
