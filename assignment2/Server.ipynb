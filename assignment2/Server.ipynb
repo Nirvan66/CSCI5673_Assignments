{
 "cells": [
  {
   "cell_type": "code",
   "execution_count": 1,
   "metadata": {},
   "outputs": [],
   "source": [
    "import queue\n",
    "class FTQueue:\n",
    "    def __init__(self):\n",
    "        self.Q = {}\n",
    "        \n",
    "    def qCreate(self, label):\n",
    "        qid = self.qId(label)\n",
    "        if qid==-1:\n",
    "            qid = max(list(self.Q.keys())+[-1])+1\n",
    "            self.Q[qid] = {'que':queue.Queue(),'label':label}\n",
    "        return qid\n",
    "        \n",
    "    def qId(self, label):\n",
    "        for k,v in self.Q.items():\n",
    "            if v['label'] == label:\n",
    "                return k\n",
    "        return -1\n",
    "    \n",
    "    def qPush(self, queue_id, item):\n",
    "        self.Q[queue_id]['que'].put(item)\n",
    "        \n",
    "    def qPop(self, queue_id):\n",
    "        if self.qSize(queue_id)!=0:\n",
    "            return self.Q[queue_id]['que'].get()\n",
    "    \n",
    "    def qTop(self, queue_id):\n",
    "        if self.qSize(queue_id)!=0:\n",
    "            top = self.Q[queue_id]['que'].get()\n",
    "            self.Q[queue_id]['que'].put(top)\n",
    "            return top\n",
    "    \n",
    "    def qSize(self, queue_id):\n",
    "        return self.Q[queue_id]['que'].qsize()\n",
    "    \n",
    "    def qDestroy(self, queue_id):\n",
    "        del self.Q[queue_id]"
   ]
  },
  {
   "cell_type": "code",
   "execution_count": 1,
   "metadata": {},
   "outputs": [],
   "source": [
    "import socket \n",
    "  \n",
    "clientAddrPort = (\"127.0.0.1\", 20001) \n",
    "bufferSize = 1024\n",
    "UDPServerSocket = socket.socket(family = socket.AF_INET, type = socket.SOCK_DGRAM) \n",
    "UDPServerSocket.bind(clientAddrPort) "
   ]
  },
  {
   "cell_type": "code",
   "execution_count": 2,
   "metadata": {},
   "outputs": [
    {
     "name": "stdout",
     "output_type": "stream",
     "text": [
      "b'1'\n"
     ]
    }
   ],
   "source": [
    "name, addr1 = UDPServerSocket.recvfrom(bufferSize)\n",
    "print(name)"
   ]
  },
  {
   "cell_type": "code",
   "execution_count": 10,
   "metadata": {},
   "outputs": [
    {
     "data": {
      "text/plain": [
       "1"
      ]
     },
     "execution_count": 10,
     "metadata": {},
     "output_type": "execute_result"
    }
   ],
   "source": [
    "name.decode()"
   ]
  },
  {
   "cell_type": "code",
   "execution_count": 6,
   "metadata": {},
   "outputs": [
    {
     "data": {
      "text/plain": [
       "12"
      ]
     },
     "execution_count": 6,
     "metadata": {},
     "output_type": "execute_result"
    }
   ],
   "source": [
    "UDPServerSocket.sendto(str.encode(\"howdy_server\"), addr1) "
   ]
  },
  {
   "cell_type": "code",
   "execution_count": 11,
   "metadata": {},
   "outputs": [],
   "source": [
    "import queue\n",
    "q = queue.Queue()\n"
   ]
  }
 ],
 "metadata": {
  "kernelspec": {
   "display_name": "Python 3",
   "language": "python",
   "name": "python3"
  },
  "language_info": {
   "codemirror_mode": {
    "name": "ipython",
    "version": 3
   },
   "file_extension": ".py",
   "mimetype": "text/x-python",
   "name": "python",
   "nbconvert_exporter": "python",
   "pygments_lexer": "ipython3",
   "version": "3.7.4"
  },
  "latex_envs": {
   "LaTeX_envs_menu_present": true,
   "autoclose": false,
   "autocomplete": true,
   "bibliofile": "biblio.bib",
   "cite_by": "apalike",
   "current_citInitial": 1,
   "eqLabelWithNumbers": true,
   "eqNumInitial": 1,
   "hotkeys": {
    "equation": "Ctrl-E",
    "itemize": "Ctrl-I"
   },
   "labels_anchors": false,
   "latex_user_defs": false,
   "report_style_numbering": false,
   "user_envs_cfg": false
  }
 },
 "nbformat": 4,
 "nbformat_minor": 2
}
