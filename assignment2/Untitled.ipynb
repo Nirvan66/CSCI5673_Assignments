{
 "cells": [
  {
   "cell_type": "code",
   "execution_count": 2,
   "metadata": {},
   "outputs": [
    {
     "name": "stdout",
     "output_type": "stream",
     "text": [
      "here\n",
      "Waiting for next message...\n",
      "Message: \n",
      "69\n"
     ]
    }
   ],
   "source": [
    "import socket\n",
    "import struct\n",
    "\n",
    "MCAST_GRP = '224.0.0.1'\n",
    "MCAST_PORT = 5050\n",
    "IS_ALL_GROUPS = True\n",
    "IS_MACOS = True\n",
    "LOCAL_HOST = True\n",
    "\n",
    "reuse_option = socket.SO_REUSEADDR if not IS_MACOS else socket.SO_REUSEPORT\n",
    "level_option = socket.IP_ADD_MEMBERSHIP if not LOCAL_HOST else socket.IP_MULTICAST_LOOP\n",
    "\n",
    "sock = socket.socket(socket.AF_INET, socket.SOCK_DGRAM, socket.IPPROTO_UDP)\n",
    "sock.setsockopt(socket.SOL_SOCKET, reuse_option, 1) # for macos, socket.SO_REUSEPORT, linux socket.SO_REUSEADDR\n",
    "if IS_ALL_GROUPS and not IS_MACOS:\n",
    "    # on this port, receives ALL multicast groups\n",
    "    sock.bind(('', MCAST_PORT))\n",
    "else:\n",
    "    # on this port, listen ONLY to MCAST_GRP\n",
    "    sock.bind((MCAST_GRP, MCAST_PORT))\n",
    "mreq = struct.pack(\"4sl\", socket.inet_aton(MCAST_GRP), socket.INADDR_ANY)\n",
    "print('here')\n",
    "sock.setsockopt(socket.IPPROTO_IP, level_option, mreq) # socket.IP_MULTICAST_LOOP for the same machine\n",
    "\n",
    "print('Waiting for next message...')\n",
    "recvval = sock.recv(10240)\n",
    "print('Message: \\n{}'.format(recvval.decode()))"
   ]
  },
  {
   "cell_type": "code",
   "execution_count": null,
   "metadata": {},
   "outputs": [],
   "source": []
  },
  {
   "cell_type": "code",
   "execution_count": null,
   "metadata": {},
   "outputs": [],
   "source": []
  }
 ],
 "metadata": {
  "kernelspec": {
   "display_name": "Python 3",
   "language": "python",
   "name": "python3"
  },
  "language_info": {
   "codemirror_mode": {
    "name": "ipython",
    "version": 3
   },
   "file_extension": ".py",
   "mimetype": "text/x-python",
   "name": "python",
   "nbconvert_exporter": "python",
   "pygments_lexer": "ipython3",
   "version": "3.7.4"
  }
 },
 "nbformat": 4,
 "nbformat_minor": 4
}
