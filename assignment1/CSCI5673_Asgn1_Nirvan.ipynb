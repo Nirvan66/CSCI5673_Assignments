{
 "cells": [
  {
   "cell_type": "markdown",
   "metadata": {},
   "source": [
    "# Run Details"
   ]
  },
  {
   "cell_type": "markdown",
   "metadata": {},
   "source": [
    "## UDP\n",
    "* All UDP code and excecutable files should be in the `/udp` folder.\n",
    "### Client\n",
    "* To run the UDP client use the following command: `./client <server_address> <save_file_name>`\n",
    "* `server address` is the IP address of the server to query for time. It will be `0` for local machine.\n",
    "* `save_file_name` is the file name to save timing data to. It will look something like `udp_output.txt`\n",
    "* Sample run: `./client 0 udp_output.txt` or `./client 1.160.10.240 udp_output.txt`\n",
    "### Server\n",
    "* To run the UDP server use the following command: `./server`"
   ]
  },
  {
   "cell_type": "markdown",
   "metadata": {},
   "source": [
    "## RPC\n",
    "* All RPC code and excecutable files should be in the `/rpc` folder.\n",
    "### Client\n",
    "* To run the RPC client use the following command: `./clock_client <server_address> <save_file_name>`\n",
    "* `server address` is the IP address of the server to query for time. It will be `localhost` for local machine.\n",
    "* `save_file_name` is the file name to save timing data to. It will look something like `rpc_output.txt`\n",
    "* Sample run: `./clock_client localhost udp_output.txt` or `./clock_client 1.160.10.240 udp_output.txt`\n",
    "### Server\n",
    "* To run the RPC server, use the following command: `./clock_server`"
   ]
  },
  {
   "cell_type": "markdown",
   "metadata": {},
   "source": [
    "# Question 1"
   ]
  },
  {
   "cell_type": "markdown",
   "metadata": {},
   "source": [
    "## Collecting data"
   ]
  },
  {
   "cell_type": "code",
   "execution_count": null,
   "metadata": {},
   "outputs": [],
   "source": [
    "import numpy as np\n",
    "import pandas as pd \n",
    "\n",
    "updLocal = pd.read_csv(\"filename.csv\") "
   ]
  }
 ],
 "metadata": {
  "kernelspec": {
   "display_name": "Python 3",
   "language": "python",
   "name": "python3"
  },
  "language_info": {
   "codemirror_mode": {
    "name": "ipython",
    "version": 3
   },
   "file_extension": ".py",
   "mimetype": "text/x-python",
   "name": "python",
   "nbconvert_exporter": "python",
   "pygments_lexer": "ipython3",
   "version": "3.7.4"
  }
 },
 "nbformat": 4,
 "nbformat_minor": 2
}
